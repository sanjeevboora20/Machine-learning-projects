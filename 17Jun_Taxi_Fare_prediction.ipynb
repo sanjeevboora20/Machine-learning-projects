{
 "cells": [
  {
   "cell_type": "code",
   "execution_count": 4,
   "id": "861b6ade",
   "metadata": {},
   "outputs": [],
   "source": [
    "import pandas as pd\n",
    "import numpy as np\n",
    "import matplotlib.pyplot as plt\n",
    "import seaborn as sns"
   ]
  },
  {
   "cell_type": "code",
   "execution_count": 21,
   "id": "cbbb10ea",
   "metadata": {},
   "outputs": [
    {
     "data": {
      "text/html": [
       "<div>\n",
       "<style scoped>\n",
       "    .dataframe tbody tr th:only-of-type {\n",
       "        vertical-align: middle;\n",
       "    }\n",
       "\n",
       "    .dataframe tbody tr th {\n",
       "        vertical-align: top;\n",
       "    }\n",
       "\n",
       "    .dataframe thead th {\n",
       "        text-align: right;\n",
       "    }\n",
       "</style>\n",
       "<table border=\"1\" class=\"dataframe\">\n",
       "  <thead>\n",
       "    <tr style=\"text-align: right;\">\n",
       "      <th></th>\n",
       "      <th>unique_id</th>\n",
       "      <th>amount</th>\n",
       "      <th>date_time_of_pickup</th>\n",
       "      <th>longitude_of_pickup</th>\n",
       "      <th>latitude_of_pickup</th>\n",
       "      <th>longitude_of_dropoff</th>\n",
       "      <th>latitude_of_dropoff</th>\n",
       "      <th>no_of_passenger</th>\n",
       "    </tr>\n",
       "  </thead>\n",
       "  <tbody>\n",
       "    <tr>\n",
       "      <th>0</th>\n",
       "      <td>26:21.0</td>\n",
       "      <td>4.5</td>\n",
       "      <td>2009-06-15 17:26:21+00:00</td>\n",
       "      <td>-73.844311</td>\n",
       "      <td>40.721319</td>\n",
       "      <td>-73.841610</td>\n",
       "      <td>40.712278</td>\n",
       "      <td>1</td>\n",
       "    </tr>\n",
       "    <tr>\n",
       "      <th>1</th>\n",
       "      <td>52:16.0</td>\n",
       "      <td>16.9</td>\n",
       "      <td>2010-01-05 16:52:16+00:00</td>\n",
       "      <td>-74.016048</td>\n",
       "      <td>40.711303</td>\n",
       "      <td>-73.979268</td>\n",
       "      <td>40.782004</td>\n",
       "      <td>1</td>\n",
       "    </tr>\n",
       "    <tr>\n",
       "      <th>2</th>\n",
       "      <td>35:00.0</td>\n",
       "      <td>5.7</td>\n",
       "      <td>2011-08-18 00:35:00+00:00</td>\n",
       "      <td>-73.982738</td>\n",
       "      <td>40.761270</td>\n",
       "      <td>-73.991242</td>\n",
       "      <td>40.750562</td>\n",
       "      <td>2</td>\n",
       "    </tr>\n",
       "    <tr>\n",
       "      <th>3</th>\n",
       "      <td>30:42.0</td>\n",
       "      <td>7.7</td>\n",
       "      <td>2012-04-21 04:30:42+00:00</td>\n",
       "      <td>-73.987130</td>\n",
       "      <td>40.733143</td>\n",
       "      <td>-73.991567</td>\n",
       "      <td>40.758092</td>\n",
       "      <td>1</td>\n",
       "    </tr>\n",
       "    <tr>\n",
       "      <th>4</th>\n",
       "      <td>51:00.0</td>\n",
       "      <td>5.3</td>\n",
       "      <td>2010-03-09 07:51:00+00:00</td>\n",
       "      <td>-73.968095</td>\n",
       "      <td>40.768008</td>\n",
       "      <td>-73.956655</td>\n",
       "      <td>40.783762</td>\n",
       "      <td>1</td>\n",
       "    </tr>\n",
       "  </tbody>\n",
       "</table>\n",
       "</div>"
      ],
      "text/plain": [
       "  unique_id  amount       date_time_of_pickup  longitude_of_pickup  \\\n",
       "0   26:21.0     4.5 2009-06-15 17:26:21+00:00           -73.844311   \n",
       "1   52:16.0    16.9 2010-01-05 16:52:16+00:00           -74.016048   \n",
       "2   35:00.0     5.7 2011-08-18 00:35:00+00:00           -73.982738   \n",
       "3   30:42.0     7.7 2012-04-21 04:30:42+00:00           -73.987130   \n",
       "4   51:00.0     5.3 2010-03-09 07:51:00+00:00           -73.968095   \n",
       "\n",
       "   latitude_of_pickup  longitude_of_dropoff  latitude_of_dropoff  \\\n",
       "0           40.721319            -73.841610            40.712278   \n",
       "1           40.711303            -73.979268            40.782004   \n",
       "2           40.761270            -73.991242            40.750562   \n",
       "3           40.733143            -73.991567            40.758092   \n",
       "4           40.768008            -73.956655            40.783762   \n",
       "\n",
       "   no_of_passenger  \n",
       "0                1  \n",
       "1                1  \n",
       "2                2  \n",
       "3                1  \n",
       "4                1  "
      ]
     },
     "execution_count": 21,
     "metadata": {},
     "output_type": "execute_result"
    }
   ],
   "source": [
    "df = pd.read_csv('Taxifare.csv',parse_dates=[2])\n",
    "df.head()"
   ]
  },
  {
   "cell_type": "code",
   "execution_count": 22,
   "id": "59cde2d4",
   "metadata": {},
   "outputs": [
    {
     "data": {
      "text/html": [
       "<div>\n",
       "<style scoped>\n",
       "    .dataframe tbody tr th:only-of-type {\n",
       "        vertical-align: middle;\n",
       "    }\n",
       "\n",
       "    .dataframe tbody tr th {\n",
       "        vertical-align: top;\n",
       "    }\n",
       "\n",
       "    .dataframe thead th {\n",
       "        text-align: right;\n",
       "    }\n",
       "</style>\n",
       "<table border=\"1\" class=\"dataframe\">\n",
       "  <thead>\n",
       "    <tr style=\"text-align: right;\">\n",
       "      <th></th>\n",
       "      <th>uid</th>\n",
       "      <th>fare</th>\n",
       "      <th>pickup_dt</th>\n",
       "      <th>long_pickup</th>\n",
       "      <th>lat_pickup</th>\n",
       "      <th>long_drop</th>\n",
       "      <th>lat_drop</th>\n",
       "      <th>pass#</th>\n",
       "    </tr>\n",
       "  </thead>\n",
       "  <tbody>\n",
       "    <tr>\n",
       "      <th>0</th>\n",
       "      <td>26:21.0</td>\n",
       "      <td>4.5</td>\n",
       "      <td>2009-06-15 17:26:21+00:00</td>\n",
       "      <td>-73.844311</td>\n",
       "      <td>40.721319</td>\n",
       "      <td>-73.841610</td>\n",
       "      <td>40.712278</td>\n",
       "      <td>1</td>\n",
       "    </tr>\n",
       "    <tr>\n",
       "      <th>1</th>\n",
       "      <td>52:16.0</td>\n",
       "      <td>16.9</td>\n",
       "      <td>2010-01-05 16:52:16+00:00</td>\n",
       "      <td>-74.016048</td>\n",
       "      <td>40.711303</td>\n",
       "      <td>-73.979268</td>\n",
       "      <td>40.782004</td>\n",
       "      <td>1</td>\n",
       "    </tr>\n",
       "    <tr>\n",
       "      <th>2</th>\n",
       "      <td>35:00.0</td>\n",
       "      <td>5.7</td>\n",
       "      <td>2011-08-18 00:35:00+00:00</td>\n",
       "      <td>-73.982738</td>\n",
       "      <td>40.761270</td>\n",
       "      <td>-73.991242</td>\n",
       "      <td>40.750562</td>\n",
       "      <td>2</td>\n",
       "    </tr>\n",
       "    <tr>\n",
       "      <th>3</th>\n",
       "      <td>30:42.0</td>\n",
       "      <td>7.7</td>\n",
       "      <td>2012-04-21 04:30:42+00:00</td>\n",
       "      <td>-73.987130</td>\n",
       "      <td>40.733143</td>\n",
       "      <td>-73.991567</td>\n",
       "      <td>40.758092</td>\n",
       "      <td>1</td>\n",
       "    </tr>\n",
       "    <tr>\n",
       "      <th>4</th>\n",
       "      <td>51:00.0</td>\n",
       "      <td>5.3</td>\n",
       "      <td>2010-03-09 07:51:00+00:00</td>\n",
       "      <td>-73.968095</td>\n",
       "      <td>40.768008</td>\n",
       "      <td>-73.956655</td>\n",
       "      <td>40.783762</td>\n",
       "      <td>1</td>\n",
       "    </tr>\n",
       "  </tbody>\n",
       "</table>\n",
       "</div>"
      ],
      "text/plain": [
       "       uid  fare                 pickup_dt  long_pickup  lat_pickup  \\\n",
       "0  26:21.0   4.5 2009-06-15 17:26:21+00:00   -73.844311   40.721319   \n",
       "1  52:16.0  16.9 2010-01-05 16:52:16+00:00   -74.016048   40.711303   \n",
       "2  35:00.0   5.7 2011-08-18 00:35:00+00:00   -73.982738   40.761270   \n",
       "3  30:42.0   7.7 2012-04-21 04:30:42+00:00   -73.987130   40.733143   \n",
       "4  51:00.0   5.3 2010-03-09 07:51:00+00:00   -73.968095   40.768008   \n",
       "\n",
       "   long_drop   lat_drop  pass#  \n",
       "0 -73.841610  40.712278      1  \n",
       "1 -73.979268  40.782004      1  \n",
       "2 -73.991242  40.750562      2  \n",
       "3 -73.991567  40.758092      1  \n",
       "4 -73.956655  40.783762      1  "
      ]
     },
     "execution_count": 22,
     "metadata": {},
     "output_type": "execute_result"
    }
   ],
   "source": [
    "df.columns = ['uid','fare','pickup_dt','long_pickup','lat_pickup','long_drop','lat_drop','pass#']\n",
    "df.head()"
   ]
  },
  {
   "cell_type": "code",
   "execution_count": 23,
   "id": "939e0239",
   "metadata": {},
   "outputs": [
    {
     "data": {
      "text/plain": [
       "(50000, 8)"
      ]
     },
     "execution_count": 23,
     "metadata": {},
     "output_type": "execute_result"
    }
   ],
   "source": [
    "df.shape"
   ]
  },
  {
   "cell_type": "code",
   "execution_count": 24,
   "id": "a0f262df",
   "metadata": {},
   "outputs": [
    {
     "data": {
      "text/plain": [
       "uid                         object\n",
       "fare                       float64\n",
       "pickup_dt      datetime64[ns, UTC]\n",
       "long_pickup                float64\n",
       "lat_pickup                 float64\n",
       "long_drop                  float64\n",
       "lat_drop                   float64\n",
       "pass#                        int64\n",
       "dtype: object"
      ]
     },
     "execution_count": 24,
     "metadata": {},
     "output_type": "execute_result"
    }
   ],
   "source": [
    "df.dtypes"
   ]
  },
  {
   "cell_type": "code",
   "execution_count": 10,
   "id": "a719cd8e",
   "metadata": {},
   "outputs": [
    {
     "data": {
      "text/plain": [
       "3597"
      ]
     },
     "execution_count": 10,
     "metadata": {},
     "output_type": "execute_result"
    }
   ],
   "source": [
    "df['uid'].nunique()"
   ]
  },
  {
   "cell_type": "code",
   "execution_count": 13,
   "id": "a27bebde",
   "metadata": {},
   "outputs": [
    {
     "data": {
      "text/plain": [
       "0    26:21.0\n",
       "1    52:16.0\n",
       "2    35:00.0\n",
       "3    30:42.0\n",
       "Name: uid, dtype: object"
      ]
     },
     "execution_count": 13,
     "metadata": {},
     "output_type": "execute_result"
    }
   ],
   "source": [
    "df['uid'][:4]"
   ]
  },
  {
   "cell_type": "code",
   "execution_count": 12,
   "id": "d079c3c2",
   "metadata": {},
   "outputs": [
    {
     "data": {
      "text/plain": [
       "0"
      ]
     },
     "execution_count": 12,
     "metadata": {},
     "output_type": "execute_result"
    }
   ],
   "source": [
    "df.duplicated().sum()"
   ]
  },
  {
   "cell_type": "code",
   "execution_count": 25,
   "id": "6270fd0e",
   "metadata": {},
   "outputs": [
    {
     "data": {
      "text/html": [
       "<div>\n",
       "<style scoped>\n",
       "    .dataframe tbody tr th:only-of-type {\n",
       "        vertical-align: middle;\n",
       "    }\n",
       "\n",
       "    .dataframe tbody tr th {\n",
       "        vertical-align: top;\n",
       "    }\n",
       "\n",
       "    .dataframe thead th {\n",
       "        text-align: right;\n",
       "    }\n",
       "</style>\n",
       "<table border=\"1\" class=\"dataframe\">\n",
       "  <thead>\n",
       "    <tr style=\"text-align: right;\">\n",
       "      <th></th>\n",
       "      <th>uid</th>\n",
       "      <th>fare</th>\n",
       "      <th>pickup_dt</th>\n",
       "      <th>long_pickup</th>\n",
       "      <th>lat_pickup</th>\n",
       "      <th>long_drop</th>\n",
       "      <th>lat_drop</th>\n",
       "      <th>pass#</th>\n",
       "    </tr>\n",
       "  </thead>\n",
       "  <tbody>\n",
       "    <tr>\n",
       "      <th>0</th>\n",
       "      <td>26:21.0</td>\n",
       "      <td>4.5</td>\n",
       "      <td>2009-06-15 17:26:21+00:00</td>\n",
       "      <td>-73.844311</td>\n",
       "      <td>40.721319</td>\n",
       "      <td>-73.841610</td>\n",
       "      <td>40.712278</td>\n",
       "      <td>1</td>\n",
       "    </tr>\n",
       "    <tr>\n",
       "      <th>1</th>\n",
       "      <td>52:16.0</td>\n",
       "      <td>16.9</td>\n",
       "      <td>2010-01-05 16:52:16+00:00</td>\n",
       "      <td>-74.016048</td>\n",
       "      <td>40.711303</td>\n",
       "      <td>-73.979268</td>\n",
       "      <td>40.782004</td>\n",
       "      <td>1</td>\n",
       "    </tr>\n",
       "    <tr>\n",
       "      <th>2</th>\n",
       "      <td>35:00.0</td>\n",
       "      <td>5.7</td>\n",
       "      <td>2011-08-18 00:35:00+00:00</td>\n",
       "      <td>-73.982738</td>\n",
       "      <td>40.761270</td>\n",
       "      <td>-73.991242</td>\n",
       "      <td>40.750562</td>\n",
       "      <td>2</td>\n",
       "    </tr>\n",
       "    <tr>\n",
       "      <th>3</th>\n",
       "      <td>30:42.0</td>\n",
       "      <td>7.7</td>\n",
       "      <td>2012-04-21 04:30:42+00:00</td>\n",
       "      <td>-73.987130</td>\n",
       "      <td>40.733143</td>\n",
       "      <td>-73.991567</td>\n",
       "      <td>40.758092</td>\n",
       "      <td>1</td>\n",
       "    </tr>\n",
       "    <tr>\n",
       "      <th>4</th>\n",
       "      <td>51:00.0</td>\n",
       "      <td>5.3</td>\n",
       "      <td>2010-03-09 07:51:00+00:00</td>\n",
       "      <td>-73.968095</td>\n",
       "      <td>40.768008</td>\n",
       "      <td>-73.956655</td>\n",
       "      <td>40.783762</td>\n",
       "      <td>1</td>\n",
       "    </tr>\n",
       "  </tbody>\n",
       "</table>\n",
       "</div>"
      ],
      "text/plain": [
       "       uid  fare                 pickup_dt  long_pickup  lat_pickup  \\\n",
       "0  26:21.0   4.5 2009-06-15 17:26:21+00:00   -73.844311   40.721319   \n",
       "1  52:16.0  16.9 2010-01-05 16:52:16+00:00   -74.016048   40.711303   \n",
       "2  35:00.0   5.7 2011-08-18 00:35:00+00:00   -73.982738   40.761270   \n",
       "3  30:42.0   7.7 2012-04-21 04:30:42+00:00   -73.987130   40.733143   \n",
       "4  51:00.0   5.3 2010-03-09 07:51:00+00:00   -73.968095   40.768008   \n",
       "\n",
       "   long_drop   lat_drop  pass#  \n",
       "0 -73.841610  40.712278      1  \n",
       "1 -73.979268  40.782004      1  \n",
       "2 -73.991242  40.750562      2  \n",
       "3 -73.991567  40.758092      1  \n",
       "4 -73.956655  40.783762      1  "
      ]
     },
     "execution_count": 25,
     "metadata": {},
     "output_type": "execute_result"
    }
   ],
   "source": [
    "df1 = df.copy()\n",
    "df1.head()"
   ]
  },
  {
   "cell_type": "code",
   "execution_count": 26,
   "id": "432dfbac",
   "metadata": {},
   "outputs": [
    {
     "data": {
      "text/plain": [
       "uid                         object\n",
       "fare                       float64\n",
       "pickup_dt      datetime64[ns, UTC]\n",
       "long_pickup                float64\n",
       "lat_pickup                 float64\n",
       "long_drop                  float64\n",
       "lat_drop                   float64\n",
       "pass#                        int64\n",
       "dtype: object"
      ]
     },
     "execution_count": 26,
     "metadata": {},
     "output_type": "execute_result"
    }
   ],
   "source": [
    "df.dtypes"
   ]
  },
  {
   "cell_type": "markdown",
   "id": "c83fa295",
   "metadata": {},
   "source": [
    "#### Univariate Data Analysis"
   ]
  },
  {
   "cell_type": "markdown",
   "id": "2452afdf",
   "metadata": {},
   "source": [
    "#### Passenger Count"
   ]
  },
  {
   "cell_type": "code",
   "execution_count": 32,
   "id": "bf61436b",
   "metadata": {},
   "outputs": [
    {
     "data": {
      "text/plain": [
       "1    34808\n",
       "2     7386\n",
       "5     3453\n",
       "3     2183\n",
       "4     1016\n",
       "6      989\n",
       "0      165\n",
       "Name: pass#, dtype: int64"
      ]
     },
     "execution_count": 32,
     "metadata": {},
     "output_type": "execute_result"
    }
   ],
   "source": [
    "d1 = df1['pass#'].value_counts()\n",
    "d1"
   ]
  },
  {
   "cell_type": "code",
   "execution_count": 34,
   "id": "0a0ed42f",
   "metadata": {},
   "outputs": [
    {
     "data": {
      "image/png": "[encoded data removed]",
      "text/plain": [
       "<Figure size 432x288 with 1 Axes>"
      ]
     },
     "metadata": {
      "needs_background": "light"
     },
     "output_type": "display_data"
    }
   ],
   "source": [
    "sns.countplot(x=df1['pass#'])\n",
    "plt.show()"
   ]
  },
  {
   "cell_type": "markdown",
   "id": "0ad163ab",
   "metadata": {},
   "source": [
    "#### Inference\n",
    "1) 165 rides have 0 passengers<br>\n",
    "2) Around 70% rides have solo passengers.<br>"
   ]
  },
  {
   "cell_type": "markdown",
   "id": "af5dd588",
   "metadata": {},
   "source": [
    "#### Fare"
   ]
  },
  {
   "cell_type": "code",
   "execution_count": 35,
   "id": "087b88e7",
   "metadata": {},
   "outputs": [
    {
     "data": {
      "text/plain": [
       "Index(['uid', 'fare', 'pickup_dt', 'long_pickup', 'lat_pickup', 'long_drop',\n",
       "       'lat_drop', 'pass#'],\n",
       "      dtype='object')"
      ]
     },
     "execution_count": 35,
     "metadata": {},
     "output_type": "execute_result"
    }
   ],
   "source": [
    "df1.columns"
   ]
  },
  {
   "cell_type": "code",
   "execution_count": 36,
   "id": "0774b748",
   "metadata": {},
   "outputs": [
    {
     "name": "stderr",
     "output_type": "stream",
     "text": [
      "C:\\Users\\Dell\\anaconda3\\lib\\site-packages\\seaborn\\distributions.py:2557: FutureWarning: `distplot` is a deprecated function and will be removed in a future version. Please adapt your code to use either `displot` (a figure-level function with similar flexibility) or `histplot` (an axes-level function for histograms).\n",
      "  warnings.warn(msg, FutureWarning)\n"
     ]
    },
    {
     "data": {
      "image/png": "[encoded data removed]",
      "text/plain": [
       "<Figure size 432x288 with 1 Axes>"
      ]
     },
     "metadata": {
      "needs_background": "light"
     },
     "output_type": "display_data"
    }
   ],
   "source": [
    "sns.distplot(x=df1['fare'])\n",
    "plt.show()"
   ]
  },
  {
   "cell_type": "code",
   "execution_count": 37,
   "id": "d19cd635",
   "metadata": {},
   "outputs": [
    {
     "data": {
      "text/plain": [
       "count    50000.000000\n",
       "mean        11.364171\n",
       "std          9.685557\n",
       "min         -5.000000\n",
       "1%           3.300000\n",
       "2%           3.500000\n",
       "50%          8.500000\n",
       "98%         46.500000\n",
       "99%         52.000000\n",
       "max        200.000000\n",
       "Name: fare, dtype: float64"
      ]
     },
     "execution_count": 37,
     "metadata": {},
     "output_type": "execute_result"
    }
   ],
   "source": [
    "df1['fare'].describe(percentiles=[0.01,0.02,0.98,0.99])"
   ]
  },
  {
   "cell_type": "code",
   "execution_count": 41,
   "id": "120431b4",
   "metadata": {},
   "outputs": [
    {
     "name": "stdout",
     "output_type": "stream",
     "text": [
      "(415, 8)\n",
      "(498, 8)\n"
     ]
    }
   ],
   "source": [
    "print(df1[df1['fare']<3.3].shape)\n",
    "print(df1[df1['fare']>52].shape)"
   ]
  },
  {
   "cell_type": "code",
   "execution_count": 42,
   "id": "5111b049",
   "metadata": {},
   "outputs": [
    {
     "data": {
      "text/plain": [
       "count    50000.000000\n",
       "mean        11.258561\n",
       "std          8.971459\n",
       "min          3.300000\n",
       "1%           3.300000\n",
       "2%           3.500000\n",
       "50%          8.500000\n",
       "98%         46.500000\n",
       "99%         52.000000\n",
       "max         52.000000\n",
       "Name: fare, dtype: float64"
      ]
     },
     "execution_count": 42,
     "metadata": {},
     "output_type": "execute_result"
    }
   ],
   "source": [
    "df1['fare'] = np.where(df1['fare']<3.30,3.30,df1['fare'])\n",
    "df1['fare'] = np.where(df1['fare']>52.0,52.0,df1['fare'])\n",
    "df1['fare'].describe(percentiles=[0.01,0.02,0.98,0.99])"
   ]
  },
  {
   "cell_type": "code",
   "execution_count": 43,
   "id": "b3fbc18f",
   "metadata": {},
   "outputs": [
    {
     "data": {
      "text/plain": [
       "Index(['uid', 'fare', 'pickup_dt', 'long_pickup', 'lat_pickup', 'long_drop',\n",
       "       'lat_drop', 'pass#'],\n",
       "      dtype='object')"
      ]
     },
     "execution_count": 43,
     "metadata": {},
     "output_type": "execute_result"
    }
   ],
   "source": [
    "df.columns"
   ]
  },
  {
   "cell_type": "markdown",
   "id": "01ed4b8c",
   "metadata": {},
   "source": [
    "#### Note\n",
    "1) Latitude range from -90 to 90<br>\n",
    "2) Longitude ranges from -180 to 180<br>"
   ]
  },
  {
   "cell_type": "code",
   "execution_count": 46,
   "id": "767955f2",
   "metadata": {},
   "outputs": [
    {
     "data": {
      "text/plain": [
       "Index(['uid', 'fare', 'pickup_dt', 'long_pickup', 'lat_pickup', 'long_drop',\n",
       "       'lat_drop', 'pass#'],\n",
       "      dtype='object')"
      ]
     },
     "execution_count": 46,
     "metadata": {},
     "output_type": "execute_result"
    }
   ],
   "source": [
    "df1.columns"
   ]
  },
  {
   "cell_type": "code",
   "execution_count": 47,
   "id": "c4364e6b",
   "metadata": {},
   "outputs": [
    {
     "name": "stdout",
     "output_type": "stream",
     "text": [
      "(0, 8)\n",
      "(1, 8)\n",
      "(0, 8)\n",
      "(0, 8)\n"
     ]
    }
   ],
   "source": [
    "print(df1[df1['lat_pickup']<-90].shape)\n",
    "print(df1[df1['lat_pickup']>90].shape)\n",
    "\n",
    "print(df1[df1['lat_drop']<-90].shape)\n",
    "print(df1[df1['lat_drop']>90].shape)"
   ]
  },
  {
   "cell_type": "code",
   "execution_count": 50,
   "id": "ba955bb9",
   "metadata": {},
   "outputs": [],
   "source": [
    "df1.drop(df1[df1['lat_pickup']>90].index,axis=0,inplace=True)"
   ]
  },
  {
   "cell_type": "code",
   "execution_count": 48,
   "id": "60e7094f",
   "metadata": {},
   "outputs": [
    {
     "name": "stdout",
     "output_type": "stream",
     "text": [
      "(0, 8)\n",
      "(0, 8)\n",
      "(0, 8)\n",
      "(0, 8)\n"
     ]
    }
   ],
   "source": [
    "print(df1[df1['long_pickup']<-180].shape)\n",
    "print(df1[df1['long_pickup']>180].shape)\n",
    "\n",
    "print(df1[df1['long_drop']<-180].shape)\n",
    "print(df1[df1['long_drop']>180].shape)"
   ]
  },
  {
   "cell_type": "code",
   "execution_count": 51,
   "id": "4a335d7b",
   "metadata": {},
   "outputs": [
    {
     "data": {
      "text/plain": [
       "(49999, 8)"
      ]
     },
     "execution_count": 51,
     "metadata": {},
     "output_type": "execute_result"
    }
   ],
   "source": [
    "df1.shape"
   ]
  },
  {
   "cell_type": "code",
   "execution_count": 53,
   "id": "b2f21934",
   "metadata": {},
   "outputs": [
    {
     "data": {
      "text/plain": [
       "Index(['uid', 'fare', 'pickup_dt', 'long_pickup', 'lat_pickup', 'long_drop',\n",
       "       'lat_drop', 'pass#'],\n",
       "      dtype='object')"
      ]
     },
     "execution_count": 53,
     "metadata": {},
     "output_type": "execute_result"
    }
   ],
   "source": [
    "df1.columns"
   ]
  },
  {
   "cell_type": "code",
   "execution_count": 56,
   "id": "7749d074",
   "metadata": {},
   "outputs": [
    {
     "data": {
      "text/html": [
       "<div>\n",
       "<style scoped>\n",
       "    .dataframe tbody tr th:only-of-type {\n",
       "        vertical-align: middle;\n",
       "    }\n",
       "\n",
       "    .dataframe tbody tr th {\n",
       "        vertical-align: top;\n",
       "    }\n",
       "\n",
       "    .dataframe thead th {\n",
       "        text-align: right;\n",
       "    }\n",
       "</style>\n",
       "<table border=\"1\" class=\"dataframe\">\n",
       "  <thead>\n",
       "    <tr style=\"text-align: right;\">\n",
       "      <th></th>\n",
       "      <th>lat_pickup</th>\n",
       "      <th>long_pickup</th>\n",
       "      <th>lat_drop</th>\n",
       "      <th>long_drop</th>\n",
       "    </tr>\n",
       "  </thead>\n",
       "  <tbody>\n",
       "    <tr>\n",
       "      <th>count</th>\n",
       "      <td>49999.000000</td>\n",
       "      <td>49999.000000</td>\n",
       "      <td>49999.000000</td>\n",
       "      <td>49999.000000</td>\n",
       "    </tr>\n",
       "    <tr>\n",
       "      <th>mean</th>\n",
       "      <td>39.926536</td>\n",
       "      <td>-72.509727</td>\n",
       "      <td>39.926234</td>\n",
       "      <td>-72.504587</td>\n",
       "    </tr>\n",
       "    <tr>\n",
       "      <th>std</th>\n",
       "      <td>6.011729</td>\n",
       "      <td>10.393962</td>\n",
       "      <td>6.014796</td>\n",
       "      <td>10.407672</td>\n",
       "    </tr>\n",
       "    <tr>\n",
       "      <th>min</th>\n",
       "      <td>-74.006893</td>\n",
       "      <td>-75.423848</td>\n",
       "      <td>-74.006377</td>\n",
       "      <td>-84.654241</td>\n",
       "    </tr>\n",
       "    <tr>\n",
       "      <th>1%</th>\n",
       "      <td>0.000000</td>\n",
       "      <td>-74.014444</td>\n",
       "      <td>0.000000</td>\n",
       "      <td>-74.015120</td>\n",
       "    </tr>\n",
       "    <tr>\n",
       "      <th>2%</th>\n",
       "      <td>40.579934</td>\n",
       "      <td>-74.010458</td>\n",
       "      <td>40.564411</td>\n",
       "      <td>-74.011755</td>\n",
       "    </tr>\n",
       "    <tr>\n",
       "      <th>50%</th>\n",
       "      <td>40.752677</td>\n",
       "      <td>-73.981840</td>\n",
       "      <td>40.753371</td>\n",
       "      <td>-73.980083</td>\n",
       "    </tr>\n",
       "    <tr>\n",
       "      <th>98%</th>\n",
       "      <td>40.799637</td>\n",
       "      <td>-73.137393</td>\n",
       "      <td>40.810248</td>\n",
       "      <td>-73.422927</td>\n",
       "    </tr>\n",
       "    <tr>\n",
       "      <th>99%</th>\n",
       "      <td>40.807110</td>\n",
       "      <td>0.000000</td>\n",
       "      <td>40.832502</td>\n",
       "      <td>0.000000</td>\n",
       "    </tr>\n",
       "    <tr>\n",
       "      <th>max</th>\n",
       "      <td>43.098708</td>\n",
       "      <td>40.783472</td>\n",
       "      <td>43.415190</td>\n",
       "      <td>40.851027</td>\n",
       "    </tr>\n",
       "  </tbody>\n",
       "</table>\n",
       "</div>"
      ],
      "text/plain": [
       "         lat_pickup   long_pickup      lat_drop     long_drop\n",
       "count  49999.000000  49999.000000  49999.000000  49999.000000\n",
       "mean      39.926536    -72.509727     39.926234    -72.504587\n",
       "std        6.011729     10.393962      6.014796     10.407672\n",
       "min      -74.006893    -75.423848    -74.006377    -84.654241\n",
       "1%         0.000000    -74.014444      0.000000    -74.015120\n",
       "2%        40.579934    -74.010458     40.564411    -74.011755\n",
       "50%       40.752677    -73.981840     40.753371    -73.980083\n",
       "98%       40.799637    -73.137393     40.810248    -73.422927\n",
       "99%       40.807110      0.000000     40.832502      0.000000\n",
       "max       43.098708     40.783472     43.415190     40.851027"
      ]
     },
     "execution_count": 56,
     "metadata": {},
     "output_type": "execute_result"
    }
   ],
   "source": [
    "df1[['lat_pickup','long_pickup','lat_drop','long_drop']].describe(percentiles=[0.01,0.02,0.98,0.99])\n",
    "# Lat -> 40.7128° N, Long -> 74.0060° W\n",
    "# Lat ->        40.730610\n",
    "# Longitude -> -73.935242"
   ]
  },
  {
   "cell_type": "code",
   "execution_count": 60,
   "id": "a95e1238",
   "metadata": {},
   "outputs": [
    {
     "name": "stderr",
     "output_type": "stream",
     "text": [
      "C:\\Users\\Dell\\anaconda3\\lib\\site-packages\\seaborn\\distributions.py:2557: FutureWarning: `distplot` is a deprecated function and will be removed in a future version. Please adapt your code to use either `displot` (a figure-level function with similar flexibility) or `histplot` (an axes-level function for histograms).\n",
      "  warnings.warn(msg, FutureWarning)\n"
     ]
    },
    {
     "data": {
      "image/png": "[encoded data removed]",
      "text/plain": [
       "<Figure size 432x288 with 1 Axes>"
      ]
     },
     "metadata": {
      "needs_background": "light"
     },
     "output_type": "display_data"
    }
   ],
   "source": [
    "sns.distplot(df1['lat_pickup'])\n",
    "plt.show()"
   ]
  },
  {
   "cell_type": "code",
   "execution_count": 65,
   "id": "c10caad5",
   "metadata": {},
   "outputs": [
    {
     "name": "stderr",
     "output_type": "stream",
     "text": [
      "C:\\Users\\Dell\\anaconda3\\lib\\site-packages\\seaborn\\distributions.py:2557: FutureWarning: `distplot` is a deprecated function and will be removed in a future version. Please adapt your code to use either `displot` (a figure-level function with similar flexibility) or `histplot` (an axes-level function for histograms).\n",
      "  warnings.warn(msg, FutureWarning)\n"
     ]
    },
    {
     "data": {
      "image/png": "[encoded data removed]",
      "text/plain": [
       "<Figure size 432x288 with 1 Axes>"
      ]
     },
     "metadata": {
      "needs_background": "light"
     },
     "output_type": "display_data"
    },
    {
     "name": "stderr",
     "output_type": "stream",
     "text": [
      "C:\\Users\\Dell\\anaconda3\\lib\\site-packages\\seaborn\\distributions.py:2557: FutureWarning: `distplot` is a deprecated function and will be removed in a future version. Please adapt your code to use either `displot` (a figure-level function with similar flexibility) or `histplot` (an axes-level function for histograms).\n",
      "  warnings.warn(msg, FutureWarning)\n"
     ]
    },
    {
     "data": {
      "image/png": "[encoded data removed]",
      "text/plain": [
       "<Figure size 432x288 with 1 Axes>"
      ]
     },
     "metadata": {
      "needs_background": "light"
     },
     "output_type": "display_data"
    },
    {
     "name": "stderr",
     "output_type": "stream",
     "text": [
      "C:\\Users\\Dell\\anaconda3\\lib\\site-packages\\seaborn\\distributions.py:2557: FutureWarning: `distplot` is a deprecated function and will be removed in a future version. Please adapt your code to use either `displot` (a figure-level function with similar flexibility) or `histplot` (an axes-level function for histograms).\n",
      "  warnings.warn(msg, FutureWarning)\n"
     ]
    },
    {
     "data": {
      "image/png": "[encoded data removed]",
      "text/plain": [
       "<Figure size 432x288 with 1 Axes>"
      ]
     },
     "metadata": {
      "needs_background": "light"
     },
     "output_type": "display_data"
    },
    {
     "name": "stderr",
     "output_type": "stream",
     "text": [
      "C:\\Users\\Dell\\anaconda3\\lib\\site-packages\\seaborn\\distributions.py:2557: FutureWarning: `distplot` is a deprecated function and will be removed in a future version. Please adapt your code to use either `displot` (a figure-level function with similar flexibility) or `histplot` (an axes-level function for histograms).\n",
      "  warnings.warn(msg, FutureWarning)\n"
     ]
    },
    {
     "data": {
      "image/png": "[encoded data removed]",
      "text/plain": [
       "<Figure size 432x288 with 1 Axes>"
      ]
     },
     "metadata": {
      "needs_background": "light"
     },
     "output_type": "display_data"
    }
   ],
   "source": [
    "coor_cols = ['lat_pickup','long_pickup','lat_drop','long_drop']\n",
    "for i in coor_cols:\n",
    "    sns.distplot(x=df1[i])\n",
    "    plt.show()"
   ]
  },
  {
   "cell_type": "code",
   "execution_count": 66,
   "id": "996d675b",
   "metadata": {},
   "outputs": [
    {
     "data": {
      "text/plain": [
       "Index(['uid', 'fare', 'pickup_dt', 'long_pickup', 'lat_pickup', 'long_drop',\n",
       "       'lat_drop', 'pass#'],\n",
       "      dtype='object')"
      ]
     },
     "execution_count": 66,
     "metadata": {},
     "output_type": "execute_result"
    }
   ],
   "source": [
    "df1.columns"
   ]
  },
  {
   "cell_type": "code",
   "execution_count": 68,
   "id": "98e989b5",
   "metadata": {},
   "outputs": [
    {
     "data": {
      "image/png": "[encoded data removed]",
      "text/plain": [
       "<Figure size 432x288 with 1 Axes>"
      ]
     },
     "metadata": {
      "needs_background": "light"
     },
     "output_type": "display_data"
    }
   ],
   "source": [
    "plt.scatter(df1['lat_pickup'],df1['long_pickup'])\n",
    "plt.show()"
   ]
  },
  {
   "cell_type": "code",
   "execution_count": 69,
   "id": "da94a740",
   "metadata": {},
   "outputs": [
    {
     "data": {
      "image/png": "[encoded data removed]",
      "text/plain": [
       "<Figure size 432x288 with 1 Axes>"
      ]
     },
     "metadata": {
      "needs_background": "light"
     },
     "output_type": "display_data"
    }
   ],
   "source": [
    "plt.scatter(df1['lat_drop'],df1['long_drop'])\n",
    "plt.show()"
   ]
  },
  {
   "cell_type": "code",
   "execution_count": null,
   "id": "8310ee8e",
   "metadata": {},
   "outputs": [],
   "source": []
  },
  {
   "cell_type": "markdown",
   "id": "6776cd67",
   "metadata": {},
   "source": [
    "#### Note\n",
    "Minkowskis distance = (|x2-x1|^p + |y2-y1|^p)^(1/p)<br>\n",
    "For p=2 => Euclidean Dist (x1,y1),(x2,y2) = sqrt((x2-x1)^2 + (y2-y1)^2)<br>\n",
    "For p=1 =>  Manhattan Dist (x1,y1),(x2,y2) = |x2-x1| + |y2-y1|"
   ]
  },
  {
   "cell_type": "code",
   "execution_count": 73,
   "id": "51cc761f",
   "metadata": {},
   "outputs": [],
   "source": [
    "def minkowski(x1,x2,y2,y1,p):\n",
    "    min_dist = (abs(x2-x1)**p + abs(y2-y1)**p)**(1/p)\n",
    "    return min_dist\n"
   ]
  },
  {
   "cell_type": "code",
   "execution_count": 74,
   "id": "a1135130",
   "metadata": {},
   "outputs": [],
   "source": [
    "df1['Euclid_dist'] = minkowski(df1['lat_drop'],df1['lat_pickup'],\n",
    "                              df1['long_drop'],df1['long_pickup'],2)\n",
    "df1['Manhattan_dist'] = minkowski(df1['lat_drop'],df1['lat_pickup'],\n",
    "                              df1['long_drop'],df1['long_pickup'],1)"
   ]
  },
  {
   "cell_type": "code",
   "execution_count": 75,
   "id": "6769787a",
   "metadata": {},
   "outputs": [
    {
     "data": {
      "text/html": [
       "<div>\n",
       "<style scoped>\n",
       "    .dataframe tbody tr th:only-of-type {\n",
       "        vertical-align: middle;\n",
       "    }\n",
       "\n",
       "    .dataframe tbody tr th {\n",
       "        vertical-align: top;\n",
       "    }\n",
       "\n",
       "    .dataframe thead th {\n",
       "        text-align: right;\n",
       "    }\n",
       "</style>\n",
       "<table border=\"1\" class=\"dataframe\">\n",
       "  <thead>\n",
       "    <tr style=\"text-align: right;\">\n",
       "      <th></th>\n",
       "      <th>uid</th>\n",
       "      <th>fare</th>\n",
       "      <th>pickup_dt</th>\n",
       "      <th>long_pickup</th>\n",
       "      <th>lat_pickup</th>\n",
       "      <th>long_drop</th>\n",
       "      <th>lat_drop</th>\n",
       "      <th>pass#</th>\n",
       "      <th>Euclid_dist</th>\n",
       "      <th>Manhattan_dist</th>\n",
       "    </tr>\n",
       "  </thead>\n",
       "  <tbody>\n",
       "    <tr>\n",
       "      <th>0</th>\n",
       "      <td>26:21.0</td>\n",
       "      <td>4.5</td>\n",
       "      <td>2009-06-15 17:26:21+00:00</td>\n",
       "      <td>-73.844311</td>\n",
       "      <td>40.721319</td>\n",
       "      <td>-73.841610</td>\n",
       "      <td>40.712278</td>\n",
       "      <td>1</td>\n",
       "      <td>0.009436</td>\n",
       "      <td>0.011742</td>\n",
       "    </tr>\n",
       "    <tr>\n",
       "      <th>1</th>\n",
       "      <td>52:16.0</td>\n",
       "      <td>16.9</td>\n",
       "      <td>2010-01-05 16:52:16+00:00</td>\n",
       "      <td>-74.016048</td>\n",
       "      <td>40.711303</td>\n",
       "      <td>-73.979268</td>\n",
       "      <td>40.782004</td>\n",
       "      <td>1</td>\n",
       "      <td>0.079696</td>\n",
       "      <td>0.107481</td>\n",
       "    </tr>\n",
       "    <tr>\n",
       "      <th>2</th>\n",
       "      <td>35:00.0</td>\n",
       "      <td>5.7</td>\n",
       "      <td>2011-08-18 00:35:00+00:00</td>\n",
       "      <td>-73.982738</td>\n",
       "      <td>40.761270</td>\n",
       "      <td>-73.991242</td>\n",
       "      <td>40.750562</td>\n",
       "      <td>2</td>\n",
       "      <td>0.013674</td>\n",
       "      <td>0.019212</td>\n",
       "    </tr>\n",
       "    <tr>\n",
       "      <th>3</th>\n",
       "      <td>30:42.0</td>\n",
       "      <td>7.7</td>\n",
       "      <td>2012-04-21 04:30:42+00:00</td>\n",
       "      <td>-73.987130</td>\n",
       "      <td>40.733143</td>\n",
       "      <td>-73.991567</td>\n",
       "      <td>40.758092</td>\n",
       "      <td>1</td>\n",
       "      <td>0.025340</td>\n",
       "      <td>0.029386</td>\n",
       "    </tr>\n",
       "    <tr>\n",
       "      <th>4</th>\n",
       "      <td>51:00.0</td>\n",
       "      <td>5.3</td>\n",
       "      <td>2010-03-09 07:51:00+00:00</td>\n",
       "      <td>-73.968095</td>\n",
       "      <td>40.768008</td>\n",
       "      <td>-73.956655</td>\n",
       "      <td>40.783762</td>\n",
       "      <td>1</td>\n",
       "      <td>0.019470</td>\n",
       "      <td>0.027194</td>\n",
       "    </tr>\n",
       "  </tbody>\n",
       "</table>\n",
       "</div>"
      ],
      "text/plain": [
       "       uid  fare                 pickup_dt  long_pickup  lat_pickup  \\\n",
       "0  26:21.0   4.5 2009-06-15 17:26:21+00:00   -73.844311   40.721319   \n",
       "1  52:16.0  16.9 2010-01-05 16:52:16+00:00   -74.016048   40.711303   \n",
       "2  35:00.0   5.7 2011-08-18 00:35:00+00:00   -73.982738   40.761270   \n",
       "3  30:42.0   7.7 2012-04-21 04:30:42+00:00   -73.987130   40.733143   \n",
       "4  51:00.0   5.3 2010-03-09 07:51:00+00:00   -73.968095   40.768008   \n",
       "\n",
       "   long_drop   lat_drop  pass#  Euclid_dist  Manhattan_dist  \n",
       "0 -73.841610  40.712278      1     0.009436        0.011742  \n",
       "1 -73.979268  40.782004      1     0.079696        0.107481  \n",
       "2 -73.991242  40.750562      2     0.013674        0.019212  \n",
       "3 -73.991567  40.758092      1     0.025340        0.029386  \n",
       "4 -73.956655  40.783762      1     0.019470        0.027194  "
      ]
     },
     "execution_count": 75,
     "metadata": {},
     "output_type": "execute_result"
    }
   ],
   "source": [
    "df1.head()"
   ]
  },
  {
   "cell_type": "markdown",
   "id": "06b59796",
   "metadata": {},
   "source": [
    "#### Haversine Distance\n",
    "\n",
    "We can calulate the distance in a sphere when latitudes and longitudes are given by Haversine formula\n",
    "\n",
    "haversine(θ) = sin²(θ/2)\n",
    "\n",
    "Eventually, the formual boils down to the following where φ is latitude, λ is longitude, R is earth’s radius (mean radius = 6,371km) to include latitude and longitude coordinates (A and B in this case).\n",
    "Latitude and longitude are measured in radians\n",
    "\n",
    "a = sin²((φB - φA)/2) + cos φA . cos φB . sin²((λB - λA)/2)\n",
    "\n",
    "c = 2 * atan2( √a, √(1−a) )\n",
    "\n",
    "d = R ⋅ c\n",
    "\n",
    "d = Haversine distance\n",
    "\n",
    "<img src=\"haversine_dist.png\">"
   ]
  },
  {
   "cell_type": "code",
   "execution_count": 77,
   "id": "d3a6a204",
   "metadata": {},
   "outputs": [],
   "source": [
    "def haversine_np(lon1, lat1, lon2, lat2):\n",
    "    lon1, lat1, lon2, lat2 = map(np.radians, [lon1, lat1, lon2, lat2])\n",
    "    dlon = lon2 - lon1\n",
    "    dlat = lat2 - lat1\n",
    "    a = np.sin(dlat/2.0)**2 + np.cos(lat1) * np.cos(lat2) * np.sin(dlon/2.0)**2\n",
    "    c = 2 * np.arcsin(np.sqrt(a))\n",
    "    km = 6371 * c\n",
    "    return km"
   ]
  },
  {
   "cell_type": "code",
   "execution_count": 78,
   "id": "b25f1877",
   "metadata": {},
   "outputs": [],
   "source": [
    "df1['haversine_dist'] = haversine_np(df1['long_pickup'], df1['lat_pickup'],\n",
    "                                    df1['long_drop'], df1['lat_drop'])"
   ]
  },
  {
   "cell_type": "code",
   "execution_count": 81,
   "id": "1455456f",
   "metadata": {},
   "outputs": [
    {
     "data": {
      "text/html": [
       "<div>\n",
       "<style scoped>\n",
       "    .dataframe tbody tr th:only-of-type {\n",
       "        vertical-align: middle;\n",
       "    }\n",
       "\n",
       "    .dataframe tbody tr th {\n",
       "        vertical-align: top;\n",
       "    }\n",
       "\n",
       "    .dataframe thead th {\n",
       "        text-align: right;\n",
       "    }\n",
       "</style>\n",
       "<table border=\"1\" class=\"dataframe\">\n",
       "  <thead>\n",
       "    <tr style=\"text-align: right;\">\n",
       "      <th></th>\n",
       "      <th>uid</th>\n",
       "      <th>fare</th>\n",
       "      <th>pickup_dt</th>\n",
       "      <th>long_pickup</th>\n",
       "      <th>lat_pickup</th>\n",
       "      <th>long_drop</th>\n",
       "      <th>lat_drop</th>\n",
       "      <th>pass#</th>\n",
       "      <th>Euclid_dist</th>\n",
       "      <th>Manhattan_dist</th>\n",
       "      <th>haversine_dist</th>\n",
       "    </tr>\n",
       "  </thead>\n",
       "  <tbody>\n",
       "    <tr>\n",
       "      <th>0</th>\n",
       "      <td>26:21.0</td>\n",
       "      <td>4.5</td>\n",
       "      <td>2009-06-15 17:26:21+00:00</td>\n",
       "      <td>-73.844311</td>\n",
       "      <td>40.721319</td>\n",
       "      <td>-73.841610</td>\n",
       "      <td>40.712278</td>\n",
       "      <td>1</td>\n",
       "      <td>0.009436</td>\n",
       "      <td>0.011742</td>\n",
       "      <td>1.030764</td>\n",
       "    </tr>\n",
       "    <tr>\n",
       "      <th>1</th>\n",
       "      <td>52:16.0</td>\n",
       "      <td>16.9</td>\n",
       "      <td>2010-01-05 16:52:16+00:00</td>\n",
       "      <td>-74.016048</td>\n",
       "      <td>40.711303</td>\n",
       "      <td>-73.979268</td>\n",
       "      <td>40.782004</td>\n",
       "      <td>1</td>\n",
       "      <td>0.079696</td>\n",
       "      <td>0.107481</td>\n",
       "      <td>8.450134</td>\n",
       "    </tr>\n",
       "  </tbody>\n",
       "</table>\n",
       "</div>"
      ],
      "text/plain": [
       "       uid  fare                 pickup_dt  long_pickup  lat_pickup  \\\n",
       "0  26:21.0   4.5 2009-06-15 17:26:21+00:00   -73.844311   40.721319   \n",
       "1  52:16.0  16.9 2010-01-05 16:52:16+00:00   -74.016048   40.711303   \n",
       "\n",
       "   long_drop   lat_drop  pass#  Euclid_dist  Manhattan_dist  haversine_dist  \n",
       "0 -73.841610  40.712278      1     0.009436        0.011742        1.030764  \n",
       "1 -73.979268  40.782004      1     0.079696        0.107481        8.450134  "
      ]
     },
     "execution_count": 81,
     "metadata": {},
     "output_type": "execute_result"
    }
   ],
   "source": [
    "df1.head(2)"
   ]
  },
  {
   "cell_type": "code",
   "execution_count": 82,
   "id": "4aeda7ae",
   "metadata": {},
   "outputs": [
    {
     "data": {
      "text/html": [
       "<div>\n",
       "<style scoped>\n",
       "    .dataframe tbody tr th:only-of-type {\n",
       "        vertical-align: middle;\n",
       "    }\n",
       "\n",
       "    .dataframe tbody tr th {\n",
       "        vertical-align: top;\n",
       "    }\n",
       "\n",
       "    .dataframe thead th {\n",
       "        text-align: right;\n",
       "    }\n",
       "</style>\n",
       "<table border=\"1\" class=\"dataframe\">\n",
       "  <thead>\n",
       "    <tr style=\"text-align: right;\">\n",
       "      <th></th>\n",
       "      <th>uid</th>\n",
       "      <th>fare</th>\n",
       "      <th>pickup_dt</th>\n",
       "      <th>long_pickup</th>\n",
       "      <th>lat_pickup</th>\n",
       "      <th>long_drop</th>\n",
       "      <th>lat_drop</th>\n",
       "      <th>pass#</th>\n",
       "      <th>Euclid_dist</th>\n",
       "      <th>Manhattan_dist</th>\n",
       "      <th>haversine_dist</th>\n",
       "      <th>abs_diff_long</th>\n",
       "      <th>abs_diff_lat</th>\n",
       "    </tr>\n",
       "  </thead>\n",
       "  <tbody>\n",
       "    <tr>\n",
       "      <th>0</th>\n",
       "      <td>26:21.0</td>\n",
       "      <td>4.5</td>\n",
       "      <td>2009-06-15 17:26:21+00:00</td>\n",
       "      <td>-73.844311</td>\n",
       "      <td>40.721319</td>\n",
       "      <td>-73.841610</td>\n",
       "      <td>40.712278</td>\n",
       "      <td>1</td>\n",
       "      <td>0.009436</td>\n",
       "      <td>0.011742</td>\n",
       "      <td>1.030764</td>\n",
       "      <td>0.002701</td>\n",
       "      <td>0.009041</td>\n",
       "    </tr>\n",
       "    <tr>\n",
       "      <th>1</th>\n",
       "      <td>52:16.0</td>\n",
       "      <td>16.9</td>\n",
       "      <td>2010-01-05 16:52:16+00:00</td>\n",
       "      <td>-74.016048</td>\n",
       "      <td>40.711303</td>\n",
       "      <td>-73.979268</td>\n",
       "      <td>40.782004</td>\n",
       "      <td>1</td>\n",
       "      <td>0.079696</td>\n",
       "      <td>0.107481</td>\n",
       "      <td>8.450134</td>\n",
       "      <td>0.036780</td>\n",
       "      <td>0.070701</td>\n",
       "    </tr>\n",
       "    <tr>\n",
       "      <th>2</th>\n",
       "      <td>35:00.0</td>\n",
       "      <td>5.7</td>\n",
       "      <td>2011-08-18 00:35:00+00:00</td>\n",
       "      <td>-73.982738</td>\n",
       "      <td>40.761270</td>\n",
       "      <td>-73.991242</td>\n",
       "      <td>40.750562</td>\n",
       "      <td>2</td>\n",
       "      <td>0.013674</td>\n",
       "      <td>0.019212</td>\n",
       "      <td>1.389525</td>\n",
       "      <td>0.008504</td>\n",
       "      <td>0.010708</td>\n",
       "    </tr>\n",
       "    <tr>\n",
       "      <th>3</th>\n",
       "      <td>30:42.0</td>\n",
       "      <td>7.7</td>\n",
       "      <td>2012-04-21 04:30:42+00:00</td>\n",
       "      <td>-73.987130</td>\n",
       "      <td>40.733143</td>\n",
       "      <td>-73.991567</td>\n",
       "      <td>40.758092</td>\n",
       "      <td>1</td>\n",
       "      <td>0.025340</td>\n",
       "      <td>0.029386</td>\n",
       "      <td>2.799270</td>\n",
       "      <td>0.004437</td>\n",
       "      <td>0.024949</td>\n",
       "    </tr>\n",
       "    <tr>\n",
       "      <th>4</th>\n",
       "      <td>51:00.0</td>\n",
       "      <td>5.3</td>\n",
       "      <td>2010-03-09 07:51:00+00:00</td>\n",
       "      <td>-73.968095</td>\n",
       "      <td>40.768008</td>\n",
       "      <td>-73.956655</td>\n",
       "      <td>40.783762</td>\n",
       "      <td>1</td>\n",
       "      <td>0.019470</td>\n",
       "      <td>0.027194</td>\n",
       "      <td>1.999157</td>\n",
       "      <td>0.011440</td>\n",
       "      <td>0.015754</td>\n",
       "    </tr>\n",
       "  </tbody>\n",
       "</table>\n",
       "</div>"
      ],
      "text/plain": [
       "       uid  fare                 pickup_dt  long_pickup  lat_pickup  \\\n",
       "0  26:21.0   4.5 2009-06-15 17:26:21+00:00   -73.844311   40.721319   \n",
       "1  52:16.0  16.9 2010-01-05 16:52:16+00:00   -74.016048   40.711303   \n",
       "2  35:00.0   5.7 2011-08-18 00:35:00+00:00   -73.982738   40.761270   \n",
       "3  30:42.0   7.7 2012-04-21 04:30:42+00:00   -73.987130   40.733143   \n",
       "4  51:00.0   5.3 2010-03-09 07:51:00+00:00   -73.968095   40.768008   \n",
       "\n",
       "   long_drop   lat_drop  pass#  Euclid_dist  Manhattan_dist  haversine_dist  \\\n",
       "0 -73.841610  40.712278      1     0.009436        0.011742        1.030764   \n",
       "1 -73.979268  40.782004      1     0.079696        0.107481        8.450134   \n",
       "2 -73.991242  40.750562      2     0.013674        0.019212        1.389525   \n",
       "3 -73.991567  40.758092      1     0.025340        0.029386        2.799270   \n",
       "4 -73.956655  40.783762      1     0.019470        0.027194        1.999157   \n",
       "\n",
       "   abs_diff_long  abs_diff_lat  \n",
       "0       0.002701      0.009041  \n",
       "1       0.036780      0.070701  \n",
       "2       0.008504      0.010708  \n",
       "3       0.004437      0.024949  \n",
       "4       0.011440      0.015754  "
      ]
     },
     "execution_count": 82,
     "metadata": {},
     "output_type": "execute_result"
    }
   ],
   "source": [
    "df1['abs_diff_long'] = abs(df1['long_drop'] - df1['long_pickup'])\n",
    "df1['abs_diff_lat'] = abs(df1['lat_drop'] - df1['lat_pickup'])\n",
    "df1.head()"
   ]
  },
  {
   "cell_type": "code",
   "execution_count": 85,
   "id": "b34d8621",
   "metadata": {},
   "outputs": [
    {
     "data": {
      "text/html": [
       "<div>\n",
       "<style scoped>\n",
       "    .dataframe tbody tr th:only-of-type {\n",
       "        vertical-align: middle;\n",
       "    }\n",
       "\n",
       "    .dataframe tbody tr th {\n",
       "        vertical-align: top;\n",
       "    }\n",
       "\n",
       "    .dataframe thead th {\n",
       "        text-align: right;\n",
       "    }\n",
       "</style>\n",
       "<table border=\"1\" class=\"dataframe\">\n",
       "  <thead>\n",
       "    <tr style=\"text-align: right;\">\n",
       "      <th></th>\n",
       "      <th>uid</th>\n",
       "      <th>fare</th>\n",
       "      <th>pickup_dt</th>\n",
       "      <th>long_pickup</th>\n",
       "      <th>lat_pickup</th>\n",
       "      <th>long_drop</th>\n",
       "      <th>lat_drop</th>\n",
       "      <th>pass#</th>\n",
       "      <th>Euclid_dist</th>\n",
       "      <th>Manhattan_dist</th>\n",
       "      <th>haversine_dist</th>\n",
       "      <th>abs_diff_long</th>\n",
       "      <th>abs_diff_lat</th>\n",
       "      <th>fare_bin</th>\n",
       "    </tr>\n",
       "  </thead>\n",
       "  <tbody>\n",
       "    <tr>\n",
       "      <th>0</th>\n",
       "      <td>26:21.0</td>\n",
       "      <td>4.5</td>\n",
       "      <td>2009-06-15 17:26:21+00:00</td>\n",
       "      <td>-73.844311</td>\n",
       "      <td>40.721319</td>\n",
       "      <td>-73.841610</td>\n",
       "      <td>40.712278</td>\n",
       "      <td>1</td>\n",
       "      <td>0.009436</td>\n",
       "      <td>0.011742</td>\n",
       "      <td>1.030764</td>\n",
       "      <td>0.002701</td>\n",
       "      <td>0.009041</td>\n",
       "      <td>(0, 5]</td>\n",
       "    </tr>\n",
       "    <tr>\n",
       "      <th>1</th>\n",
       "      <td>52:16.0</td>\n",
       "      <td>16.9</td>\n",
       "      <td>2010-01-05 16:52:16+00:00</td>\n",
       "      <td>-74.016048</td>\n",
       "      <td>40.711303</td>\n",
       "      <td>-73.979268</td>\n",
       "      <td>40.782004</td>\n",
       "      <td>1</td>\n",
       "      <td>0.079696</td>\n",
       "      <td>0.107481</td>\n",
       "      <td>8.450134</td>\n",
       "      <td>0.036780</td>\n",
       "      <td>0.070701</td>\n",
       "      <td>(15, 20]</td>\n",
       "    </tr>\n",
       "    <tr>\n",
       "      <th>2</th>\n",
       "      <td>35:00.0</td>\n",
       "      <td>5.7</td>\n",
       "      <td>2011-08-18 00:35:00+00:00</td>\n",
       "      <td>-73.982738</td>\n",
       "      <td>40.761270</td>\n",
       "      <td>-73.991242</td>\n",
       "      <td>40.750562</td>\n",
       "      <td>2</td>\n",
       "      <td>0.013674</td>\n",
       "      <td>0.019212</td>\n",
       "      <td>1.389525</td>\n",
       "      <td>0.008504</td>\n",
       "      <td>0.010708</td>\n",
       "      <td>(5, 10]</td>\n",
       "    </tr>\n",
       "    <tr>\n",
       "      <th>3</th>\n",
       "      <td>30:42.0</td>\n",
       "      <td>7.7</td>\n",
       "      <td>2012-04-21 04:30:42+00:00</td>\n",
       "      <td>-73.987130</td>\n",
       "      <td>40.733143</td>\n",
       "      <td>-73.991567</td>\n",
       "      <td>40.758092</td>\n",
       "      <td>1</td>\n",
       "      <td>0.025340</td>\n",
       "      <td>0.029386</td>\n",
       "      <td>2.799270</td>\n",
       "      <td>0.004437</td>\n",
       "      <td>0.024949</td>\n",
       "      <td>(5, 10]</td>\n",
       "    </tr>\n",
       "    <tr>\n",
       "      <th>4</th>\n",
       "      <td>51:00.0</td>\n",
       "      <td>5.3</td>\n",
       "      <td>2010-03-09 07:51:00+00:00</td>\n",
       "      <td>-73.968095</td>\n",
       "      <td>40.768008</td>\n",
       "      <td>-73.956655</td>\n",
       "      <td>40.783762</td>\n",
       "      <td>1</td>\n",
       "      <td>0.019470</td>\n",
       "      <td>0.027194</td>\n",
       "      <td>1.999157</td>\n",
       "      <td>0.011440</td>\n",
       "      <td>0.015754</td>\n",
       "      <td>(5, 10]</td>\n",
       "    </tr>\n",
       "  </tbody>\n",
       "</table>\n",
       "</div>"
      ],
      "text/plain": [
       "       uid  fare                 pickup_dt  long_pickup  lat_pickup  \\\n",
       "0  26:21.0   4.5 2009-06-15 17:26:21+00:00   -73.844311   40.721319   \n",
       "1  52:16.0  16.9 2010-01-05 16:52:16+00:00   -74.016048   40.711303   \n",
       "2  35:00.0   5.7 2011-08-18 00:35:00+00:00   -73.982738   40.761270   \n",
       "3  30:42.0   7.7 2012-04-21 04:30:42+00:00   -73.987130   40.733143   \n",
       "4  51:00.0   5.3 2010-03-09 07:51:00+00:00   -73.968095   40.768008   \n",
       "\n",
       "   long_drop   lat_drop  pass#  Euclid_dist  Manhattan_dist  haversine_dist  \\\n",
       "0 -73.841610  40.712278      1     0.009436        0.011742        1.030764   \n",
       "1 -73.979268  40.782004      1     0.079696        0.107481        8.450134   \n",
       "2 -73.991242  40.750562      2     0.013674        0.019212        1.389525   \n",
       "3 -73.991567  40.758092      1     0.025340        0.029386        2.799270   \n",
       "4 -73.956655  40.783762      1     0.019470        0.027194        1.999157   \n",
       "\n",
       "   abs_diff_long  abs_diff_lat  fare_bin  \n",
       "0       0.002701      0.009041    (0, 5]  \n",
       "1       0.036780      0.070701  (15, 20]  \n",
       "2       0.008504      0.010708   (5, 10]  \n",
       "3       0.004437      0.024949   (5, 10]  \n",
       "4       0.011440      0.015754   (5, 10]  "
      ]
     },
     "execution_count": 85,
     "metadata": {},
     "output_type": "execute_result"
    }
   ],
   "source": [
    "df1['fare_bin'] = pd.cut(df1['fare'],bins=list(range(0,60,5)))\n",
    "df1.head()"
   ]
  },
  {
   "cell_type": "code",
   "execution_count": 86,
   "id": "e01da839",
   "metadata": {},
   "outputs": [
    {
     "data": {
      "text/plain": [
       "(5, 10]     23437\n",
       "(10, 15]     9959\n",
       "(0, 5]       7703\n",
       "(15, 20]     3681\n",
       "(20, 25]     1643\n",
       "(25, 30]      995\n",
       "(30, 35]      774\n",
       "(50, 55]      636\n",
       "(35, 40]      429\n",
       "(45, 50]      396\n",
       "(40, 45]      346\n",
       "Name: fare_bin, dtype: int64"
      ]
     },
     "execution_count": 86,
     "metadata": {},
     "output_type": "execute_result"
    }
   ],
   "source": [
    "df1['fare_bin'].value_counts()"
   ]
  },
  {
   "cell_type": "markdown",
   "id": "5bc74869",
   "metadata": {},
   "source": [
    "### Model - 1"
   ]
  },
  {
   "cell_type": "code",
   "execution_count": 87,
   "id": "eae479f0",
   "metadata": {},
   "outputs": [
    {
     "data": {
      "text/plain": [
       "Index(['uid', 'fare', 'pickup_dt', 'long_pickup', 'lat_pickup', 'long_drop',\n",
       "       'lat_drop', 'pass#', 'Euclid_dist', 'Manhattan_dist', 'haversine_dist',\n",
       "       'abs_diff_long', 'abs_diff_lat', 'fare_bin'],\n",
       "      dtype='object')"
      ]
     },
     "execution_count": 87,
     "metadata": {},
     "output_type": "execute_result"
    }
   ],
   "source": [
    "df1.columns"
   ]
  },
  {
   "cell_type": "code",
   "execution_count": 89,
   "id": "951260f0",
   "metadata": {},
   "outputs": [
    {
     "name": "stdout",
     "output_type": "stream",
     "text": [
      "(49999, 6)\n",
      "(49999,)\n"
     ]
    }
   ],
   "source": [
    "y = df1['fare']\n",
    "x = df1[['pass#', 'Euclid_dist', 'Manhattan_dist', 'haversine_dist',\n",
    "       'abs_diff_long', 'abs_diff_lat']]\n",
    "# x = df1.iloc[:,[7,8,9,10,11,12]]\n",
    "print(x.shape)\n",
    "print(y.shape)"
   ]
  },
  {
   "cell_type": "code",
   "execution_count": 98,
   "id": "2a92f63f",
   "metadata": {},
   "outputs": [
    {
     "name": "stdout",
     "output_type": "stream",
     "text": [
      "pass#               int64\n",
      "Euclid_dist       float64\n",
      "Manhattan_dist    float64\n",
      "haversine_dist    float64\n",
      "abs_diff_long     float64\n",
      "abs_diff_lat      float64\n",
      "dtype: object\n",
      "float64\n"
     ]
    }
   ],
   "source": [
    "print(x.dtypes)\n",
    "print(y.dtypes)"
   ]
  },
  {
   "cell_type": "code",
   "execution_count": 99,
   "id": "424e38f6",
   "metadata": {},
   "outputs": [
    {
     "name": "stdout",
     "output_type": "stream",
     "text": [
      "(37499, 6)\n",
      "(12500, 6)\n",
      "(37499,)\n",
      "(12500,)\n"
     ]
    }
   ],
   "source": [
    "from sklearn.model_selection import train_test_split\n",
    "x_train,x_test,y_train,y_test = train_test_split(x,y,test_size=0.25,\n",
    "                                               random_state=25)\n",
    "print(x_train.shape)\n",
    "print(x_test.shape)\n",
    "print(y_train.shape)\n",
    "print(y_test.shape)"
   ]
  },
  {
   "cell_type": "code",
   "execution_count": 93,
   "id": "4713e850",
   "metadata": {},
   "outputs": [],
   "source": [
    "from sklearn.metrics import mean_squared_error,mean_absolute_error,r2_score"
   ]
  },
  {
   "cell_type": "code",
   "execution_count": 94,
   "id": "e8a2d1ad",
   "metadata": {},
   "outputs": [],
   "source": [
    "def gen_metrics(model,x_train,x_test,y_train,y_test):\n",
    "    model.fit(x_train,y_train)\n",
    "    train_score = model.score(x_train,y_train)\n",
    "    test_score = model.score(x_test,y_test)\n",
    "    print('Training Score',train_score)\n",
    "    print('Testing Score',test_score)\n",
    "    ypred = model.predict(x_test)\n",
    "    mae = mean_absolute_error(y_test,ypred)\n",
    "    mse = mean_squared_error(y_test,ypred)\n",
    "    rmse = np.sqrt(mean_squared_error(y_test,ypred))\n",
    "    r2s = r2_score(y_test,ypred)\n",
    "    print('MAE',mae)\n",
    "    print('MSE',mse)\n",
    "    print('RMSE',rmse)\n",
    "    print('R2_Score',r2s)"
   ]
  },
  {
   "cell_type": "code",
   "execution_count": 101,
   "id": "3b1642e0",
   "metadata": {},
   "outputs": [],
   "source": [
    "from sklearn.ensemble import RandomForestRegressor"
   ]
  },
  {
   "cell_type": "code",
   "execution_count": 106,
   "id": "74bf3bbe",
   "metadata": {},
   "outputs": [
    {
     "name": "stdout",
     "output_type": "stream",
     "text": [
      "Training Score 0.798981548552738\n",
      "Testing Score 0.7910234683040944\n",
      "MAE 2.2599681968520486\n",
      "MSE 16.513470588300585\n",
      "RMSE 4.063676978833405\n",
      "R2_Score 0.7910234683040944\n"
     ]
    }
   ],
   "source": [
    "m1 = RandomForestRegressor(n_estimators=70,criterion='mse',max_depth=5)\n",
    "gen_metrics(m1,x_train,x_test,y_train,y_test)"
   ]
  },
  {
   "cell_type": "code",
   "execution_count": 107,
   "id": "a8b9a039",
   "metadata": {},
   "outputs": [
    {
     "data": {
      "text/html": [
       "<div>\n",
       "<style scoped>\n",
       "    .dataframe tbody tr th:only-of-type {\n",
       "        vertical-align: middle;\n",
       "    }\n",
       "\n",
       "    .dataframe tbody tr th {\n",
       "        vertical-align: top;\n",
       "    }\n",
       "\n",
       "    .dataframe thead th {\n",
       "        text-align: right;\n",
       "    }\n",
       "</style>\n",
       "<table border=\"1\" class=\"dataframe\">\n",
       "  <thead>\n",
       "    <tr style=\"text-align: right;\">\n",
       "      <th></th>\n",
       "      <th>Features</th>\n",
       "      <th>Norm_Imp</th>\n",
       "    </tr>\n",
       "  </thead>\n",
       "  <tbody>\n",
       "    <tr>\n",
       "      <th>1</th>\n",
       "      <td>Euclid_dist</td>\n",
       "      <td>0.947537</td>\n",
       "    </tr>\n",
       "    <tr>\n",
       "      <th>4</th>\n",
       "      <td>abs_diff_long</td>\n",
       "      <td>0.023694</td>\n",
       "    </tr>\n",
       "    <tr>\n",
       "      <th>3</th>\n",
       "      <td>haversine_dist</td>\n",
       "      <td>0.016002</td>\n",
       "    </tr>\n",
       "    <tr>\n",
       "      <th>2</th>\n",
       "      <td>Manhattan_dist</td>\n",
       "      <td>0.007605</td>\n",
       "    </tr>\n",
       "    <tr>\n",
       "      <th>5</th>\n",
       "      <td>abs_diff_lat</td>\n",
       "      <td>0.005054</td>\n",
       "    </tr>\n",
       "    <tr>\n",
       "      <th>0</th>\n",
       "      <td>pass#</td>\n",
       "      <td>0.000108</td>\n",
       "    </tr>\n",
       "  </tbody>\n",
       "</table>\n",
       "</div>"
      ],
      "text/plain": [
       "         Features  Norm_Imp\n",
       "1     Euclid_dist  0.947537\n",
       "4   abs_diff_long  0.023694\n",
       "3  haversine_dist  0.016002\n",
       "2  Manhattan_dist  0.007605\n",
       "5    abs_diff_lat  0.005054\n",
       "0           pass#  0.000108"
      ]
     },
     "execution_count": 107,
     "metadata": {},
     "output_type": "execute_result"
    }
   ],
   "source": [
    "fimp_m1 = pd.DataFrame({'Features':x_train.columns,\n",
    "                        'Norm_Imp':m1.feature_importances_})\n",
    "fimp_m1.sort_values(by='Norm_Imp',ascending=False)"
   ]
  },
  {
   "cell_type": "code",
   "execution_count": 108,
   "id": "cddb48d6",
   "metadata": {},
   "outputs": [],
   "source": [
    "df1.to_csv('taxi_fare_m1_17Jun.csv')"
   ]
  },
  {
   "cell_type": "code",
   "execution_count": 110,
   "id": "ac7de391",
   "metadata": {},
   "outputs": [
    {
     "data": {
      "text/html": [
       "<div>\n",
       "<style scoped>\n",
       "    .dataframe tbody tr th:only-of-type {\n",
       "        vertical-align: middle;\n",
       "    }\n",
       "\n",
       "    .dataframe tbody tr th {\n",
       "        vertical-align: top;\n",
       "    }\n",
       "\n",
       "    .dataframe thead th {\n",
       "        text-align: right;\n",
       "    }\n",
       "</style>\n",
       "<table border=\"1\" class=\"dataframe\">\n",
       "  <thead>\n",
       "    <tr style=\"text-align: right;\">\n",
       "      <th></th>\n",
       "      <th>Unnamed: 0</th>\n",
       "      <th>uid</th>\n",
       "      <th>fare</th>\n",
       "      <th>pickup_dt</th>\n",
       "      <th>long_pickup</th>\n",
       "      <th>lat_pickup</th>\n",
       "      <th>long_drop</th>\n",
       "      <th>lat_drop</th>\n",
       "      <th>pass#</th>\n",
       "      <th>Euclid_dist</th>\n",
       "      <th>Manhattan_dist</th>\n",
       "      <th>haversine_dist</th>\n",
       "      <th>abs_diff_long</th>\n",
       "      <th>abs_diff_lat</th>\n",
       "      <th>fare_bin</th>\n",
       "    </tr>\n",
       "  </thead>\n",
       "  <tbody>\n",
       "    <tr>\n",
       "      <th>0</th>\n",
       "      <td>0</td>\n",
       "      <td>26:21.0</td>\n",
       "      <td>4.5</td>\n",
       "      <td>2009-06-15 17:26:21+00:00</td>\n",
       "      <td>-73.844311</td>\n",
       "      <td>40.721319</td>\n",
       "      <td>-73.841610</td>\n",
       "      <td>40.712278</td>\n",
       "      <td>1</td>\n",
       "      <td>0.009436</td>\n",
       "      <td>0.011742</td>\n",
       "      <td>1.030764</td>\n",
       "      <td>0.002701</td>\n",
       "      <td>0.009041</td>\n",
       "      <td>(0, 5]</td>\n",
       "    </tr>\n",
       "    <tr>\n",
       "      <th>1</th>\n",
       "      <td>1</td>\n",
       "      <td>52:16.0</td>\n",
       "      <td>16.9</td>\n",
       "      <td>2010-01-05 16:52:16+00:00</td>\n",
       "      <td>-74.016048</td>\n",
       "      <td>40.711303</td>\n",
       "      <td>-73.979268</td>\n",
       "      <td>40.782004</td>\n",
       "      <td>1</td>\n",
       "      <td>0.079696</td>\n",
       "      <td>0.107481</td>\n",
       "      <td>8.450134</td>\n",
       "      <td>0.036780</td>\n",
       "      <td>0.070701</td>\n",
       "      <td>(15, 20]</td>\n",
       "    </tr>\n",
       "    <tr>\n",
       "      <th>2</th>\n",
       "      <td>2</td>\n",
       "      <td>35:00.0</td>\n",
       "      <td>5.7</td>\n",
       "      <td>2011-08-18 00:35:00+00:00</td>\n",
       "      <td>-73.982738</td>\n",
       "      <td>40.761270</td>\n",
       "      <td>-73.991242</td>\n",
       "      <td>40.750562</td>\n",
       "      <td>2</td>\n",
       "      <td>0.013674</td>\n",
       "      <td>0.019212</td>\n",
       "      <td>1.389525</td>\n",
       "      <td>0.008504</td>\n",
       "      <td>0.010708</td>\n",
       "      <td>(5, 10]</td>\n",
       "    </tr>\n",
       "    <tr>\n",
       "      <th>3</th>\n",
       "      <td>3</td>\n",
       "      <td>30:42.0</td>\n",
       "      <td>7.7</td>\n",
       "      <td>2012-04-21 04:30:42+00:00</td>\n",
       "      <td>-73.987130</td>\n",
       "      <td>40.733143</td>\n",
       "      <td>-73.991567</td>\n",
       "      <td>40.758092</td>\n",
       "      <td>1</td>\n",
       "      <td>0.025340</td>\n",
       "      <td>0.029386</td>\n",
       "      <td>2.799270</td>\n",
       "      <td>0.004437</td>\n",
       "      <td>0.024949</td>\n",
       "      <td>(5, 10]</td>\n",
       "    </tr>\n",
       "    <tr>\n",
       "      <th>4</th>\n",
       "      <td>4</td>\n",
       "      <td>51:00.0</td>\n",
       "      <td>5.3</td>\n",
       "      <td>2010-03-09 07:51:00+00:00</td>\n",
       "      <td>-73.968095</td>\n",
       "      <td>40.768008</td>\n",
       "      <td>-73.956655</td>\n",
       "      <td>40.783762</td>\n",
       "      <td>1</td>\n",
       "      <td>0.019470</td>\n",
       "      <td>0.027194</td>\n",
       "      <td>1.999157</td>\n",
       "      <td>0.011440</td>\n",
       "      <td>0.015754</td>\n",
       "      <td>(5, 10]</td>\n",
       "    </tr>\n",
       "  </tbody>\n",
       "</table>\n",
       "</div>"
      ],
      "text/plain": [
       "   Unnamed: 0      uid  fare                  pickup_dt  long_pickup  \\\n",
       "0           0  26:21.0   4.5  2009-06-15 17:26:21+00:00   -73.844311   \n",
       "1           1  52:16.0  16.9  2010-01-05 16:52:16+00:00   -74.016048   \n",
       "2           2  35:00.0   5.7  2011-08-18 00:35:00+00:00   -73.982738   \n",
       "3           3  30:42.0   7.7  2012-04-21 04:30:42+00:00   -73.987130   \n",
       "4           4  51:00.0   5.3  2010-03-09 07:51:00+00:00   -73.968095   \n",
       "\n",
       "   lat_pickup  long_drop   lat_drop  pass#  Euclid_dist  Manhattan_dist  \\\n",
       "0   40.721319 -73.841610  40.712278      1     0.009436        0.011742   \n",
       "1   40.711303 -73.979268  40.782004      1     0.079696        0.107481   \n",
       "2   40.761270 -73.991242  40.750562      2     0.013674        0.019212   \n",
       "3   40.733143 -73.991567  40.758092      1     0.025340        0.029386   \n",
       "4   40.768008 -73.956655  40.783762      1     0.019470        0.027194   \n",
       "\n",
       "   haversine_dist  abs_diff_long  abs_diff_lat  fare_bin  \n",
       "0        1.030764       0.002701      0.009041    (0, 5]  \n",
       "1        8.450134       0.036780      0.070701  (15, 20]  \n",
       "2        1.389525       0.008504      0.010708   (5, 10]  \n",
       "3        2.799270       0.004437      0.024949   (5, 10]  \n",
       "4        1.999157       0.011440      0.015754   (5, 10]  "
      ]
     },
     "execution_count": 110,
     "metadata": {},
     "output_type": "execute_result"
    }
   ],
   "source": [
    "df2 = pd.read_csv('taxi_fare_m1_17Jun.csv')\n",
    "df2.head()"
   ]
  },
  {
   "cell_type": "markdown",
   "id": "d57fd7a5",
   "metadata": {},
   "source": [
    "### Model Saving"
   ]
  },
  {
   "cell_type": "markdown",
   "id": "25bb76ba",
   "metadata": {},
   "source": [
    "#### Method-1"
   ]
  },
  {
   "cell_type": "code",
   "execution_count": 115,
   "id": "4aa6927b",
   "metadata": {},
   "outputs": [],
   "source": [
    "import pickle"
   ]
  },
  {
   "cell_type": "code",
   "execution_count": 116,
   "id": "79efa157",
   "metadata": {},
   "outputs": [],
   "source": [
    "# Model Saving\n",
    "# wb = write binary\n",
    "pickle.dump(m1, open('m1_pickle_17jun.sav', 'wb'))"
   ]
  },
  {
   "cell_type": "code",
   "execution_count": 124,
   "id": "d654ccd8",
   "metadata": {},
   "outputs": [
    {
     "name": "stdout",
     "output_type": "stream",
     "text": [
      "0.7910234683040944\n"
     ]
    }
   ],
   "source": [
    "# rb = read binary\n",
    "loaded_model = pickle.load(open('m1_pickle_17jun.sav', 'rb'))\n",
    "result = loaded_model.score(x_test, y_test)\n",
    "print(result)"
   ]
  },
  {
   "cell_type": "markdown",
   "id": "63ba45c2",
   "metadata": {},
   "source": [
    "#### Method-2"
   ]
  },
  {
   "cell_type": "code",
   "execution_count": 126,
   "id": "79371391",
   "metadata": {},
   "outputs": [],
   "source": [
    "import joblib"
   ]
  },
  {
   "cell_type": "code",
   "execution_count": 127,
   "id": "a85f62e2",
   "metadata": {},
   "outputs": [
    {
     "data": {
      "text/plain": [
       "['m1_joblib_17jun.sav']"
      ]
     },
     "execution_count": 127,
     "metadata": {},
     "output_type": "execute_result"
    }
   ],
   "source": [
    "joblib.dump(m1, 'm1_joblib_17jun.sav')"
   ]
  },
  {
   "cell_type": "code",
   "execution_count": 128,
   "id": "375593ba",
   "metadata": {},
   "outputs": [
    {
     "name": "stdout",
     "output_type": "stream",
     "text": [
      "0.7910234683040944\n"
     ]
    }
   ],
   "source": [
    "loaded_model_joblib = joblib.load('m1_joblib_17jun.sav')\n",
    "result2 = loaded_model_joblib.score(x_test, y_test)\n",
    "print(result2)"
   ]
  },
  {
   "cell_type": "code",
   "execution_count": 130,
   "id": "f4aea03e",
   "metadata": {},
   "outputs": [
    {
     "data": {
      "text/html": [
       "<div>\n",
       "<style scoped>\n",
       "    .dataframe tbody tr th:only-of-type {\n",
       "        vertical-align: middle;\n",
       "    }\n",
       "\n",
       "    .dataframe tbody tr th {\n",
       "        vertical-align: top;\n",
       "    }\n",
       "\n",
       "    .dataframe thead th {\n",
       "        text-align: right;\n",
       "    }\n",
       "</style>\n",
       "<table border=\"1\" class=\"dataframe\">\n",
       "  <thead>\n",
       "    <tr style=\"text-align: right;\">\n",
       "      <th></th>\n",
       "      <th>uid</th>\n",
       "      <th>fare</th>\n",
       "      <th>pickup_dt</th>\n",
       "      <th>long_pickup</th>\n",
       "      <th>lat_pickup</th>\n",
       "      <th>long_drop</th>\n",
       "      <th>lat_drop</th>\n",
       "      <th>pass#</th>\n",
       "      <th>Euclid_dist</th>\n",
       "      <th>Manhattan_dist</th>\n",
       "      <th>haversine_dist</th>\n",
       "      <th>abs_diff_long</th>\n",
       "      <th>abs_diff_lat</th>\n",
       "      <th>fare_bin</th>\n",
       "    </tr>\n",
       "  </thead>\n",
       "  <tbody>\n",
       "    <tr>\n",
       "      <th>0</th>\n",
       "      <td>26:21.0</td>\n",
       "      <td>4.5</td>\n",
       "      <td>2009-06-15 17:26:21+00:00</td>\n",
       "      <td>-73.844311</td>\n",
       "      <td>40.721319</td>\n",
       "      <td>-73.841610</td>\n",
       "      <td>40.712278</td>\n",
       "      <td>1</td>\n",
       "      <td>0.009436</td>\n",
       "      <td>0.011742</td>\n",
       "      <td>1.030764</td>\n",
       "      <td>0.002701</td>\n",
       "      <td>0.009041</td>\n",
       "      <td>(0, 5]</td>\n",
       "    </tr>\n",
       "    <tr>\n",
       "      <th>1</th>\n",
       "      <td>52:16.0</td>\n",
       "      <td>16.9</td>\n",
       "      <td>2010-01-05 16:52:16+00:00</td>\n",
       "      <td>-74.016048</td>\n",
       "      <td>40.711303</td>\n",
       "      <td>-73.979268</td>\n",
       "      <td>40.782004</td>\n",
       "      <td>1</td>\n",
       "      <td>0.079696</td>\n",
       "      <td>0.107481</td>\n",
       "      <td>8.450134</td>\n",
       "      <td>0.036780</td>\n",
       "      <td>0.070701</td>\n",
       "      <td>(15, 20]</td>\n",
       "    </tr>\n",
       "  </tbody>\n",
       "</table>\n",
       "</div>"
      ],
      "text/plain": [
       "       uid  fare                 pickup_dt  long_pickup  lat_pickup  \\\n",
       "0  26:21.0   4.5 2009-06-15 17:26:21+00:00   -73.844311   40.721319   \n",
       "1  52:16.0  16.9 2010-01-05 16:52:16+00:00   -74.016048   40.711303   \n",
       "\n",
       "   long_drop   lat_drop  pass#  Euclid_dist  Manhattan_dist  haversine_dist  \\\n",
       "0 -73.841610  40.712278      1     0.009436        0.011742        1.030764   \n",
       "1 -73.979268  40.782004      1     0.079696        0.107481        8.450134   \n",
       "\n",
       "   abs_diff_long  abs_diff_lat  fare_bin  \n",
       "0       0.002701      0.009041    (0, 5]  \n",
       "1       0.036780      0.070701  (15, 20]  "
      ]
     },
     "execution_count": 130,
     "metadata": {},
     "output_type": "execute_result"
    }
   ],
   "source": [
    "df1.head(2)"
   ]
  },
  {
   "cell_type": "markdown",
   "id": "c5d18946",
   "metadata": {},
   "source": [
    "#### Creating Datetime Columns"
   ]
  },
  {
   "cell_type": "code",
   "execution_count": 131,
   "id": "a255bc4f",
   "metadata": {},
   "outputs": [
    {
     "data": {
      "text/plain": [
       "Index(['uid', 'fare', 'pickup_dt', 'long_pickup', 'lat_pickup', 'long_drop',\n",
       "       'lat_drop', 'pass#', 'Euclid_dist', 'Manhattan_dist', 'haversine_dist',\n",
       "       'abs_diff_long', 'abs_diff_lat', 'fare_bin'],\n",
       "      dtype='object')"
      ]
     },
     "execution_count": 131,
     "metadata": {},
     "output_type": "execute_result"
    }
   ],
   "source": [
    "df1.columns"
   ]
  },
  {
   "cell_type": "code",
   "execution_count": 134,
   "id": "385f537d",
   "metadata": {},
   "outputs": [
    {
     "data": {
      "text/plain": [
       "uid                            object\n",
       "fare                          float64\n",
       "pickup_dt         datetime64[ns, UTC]\n",
       "long_pickup                   float64\n",
       "lat_pickup                    float64\n",
       "long_drop                     float64\n",
       "lat_drop                      float64\n",
       "pass#                           int64\n",
       "Euclid_dist                   float64\n",
       "Manhattan_dist                float64\n",
       "haversine_dist                float64\n",
       "abs_diff_long                 float64\n",
       "abs_diff_lat                  float64\n",
       "fare_bin                     category\n",
       "dtype: object"
      ]
     },
     "execution_count": 134,
     "metadata": {},
     "output_type": "execute_result"
    }
   ],
   "source": [
    "df1.dtypes"
   ]
  },
  {
   "cell_type": "code",
   "execution_count": 135,
   "id": "bf9874af",
   "metadata": {},
   "outputs": [
    {
     "data": {
      "text/plain": [
       "0   2009-06-15 17:26:21+00:00\n",
       "1   2010-01-05 16:52:16+00:00\n",
       "2   2011-08-18 00:35:00+00:00\n",
       "3   2012-04-21 04:30:42+00:00\n",
       "4   2010-03-09 07:51:00+00:00\n",
       "Name: pickup_dt, dtype: datetime64[ns, UTC]"
      ]
     },
     "execution_count": 135,
     "metadata": {},
     "output_type": "execute_result"
    }
   ],
   "source": [
    "df1['pickup_dt'][:5]"
   ]
  },
  {
   "cell_type": "code",
   "execution_count": 136,
   "id": "896ba69f",
   "metadata": {},
   "outputs": [],
   "source": [
    "df1['Year'] = df1['pickup_dt'].dt.year\n",
    "df1['Quarter'] = df1['pickup_dt'].dt.quarter\n",
    "df1['Month'] = df1['pickup_dt'].dt.month"
   ]
  },
  {
   "cell_type": "code",
   "execution_count": 138,
   "id": "31788799",
   "metadata": {},
   "outputs": [
    {
     "data": {
      "text/html": [
       "<div>\n",
       "<style scoped>\n",
       "    .dataframe tbody tr th:only-of-type {\n",
       "        vertical-align: middle;\n",
       "    }\n",
       "\n",
       "    .dataframe tbody tr th {\n",
       "        vertical-align: top;\n",
       "    }\n",
       "\n",
       "    .dataframe thead th {\n",
       "        text-align: right;\n",
       "    }\n",
       "</style>\n",
       "<table border=\"1\" class=\"dataframe\">\n",
       "  <thead>\n",
       "    <tr style=\"text-align: right;\">\n",
       "      <th></th>\n",
       "      <th>uid</th>\n",
       "      <th>fare</th>\n",
       "      <th>pickup_dt</th>\n",
       "      <th>long_pickup</th>\n",
       "      <th>lat_pickup</th>\n",
       "      <th>long_drop</th>\n",
       "      <th>lat_drop</th>\n",
       "      <th>pass#</th>\n",
       "      <th>Euclid_dist</th>\n",
       "      <th>Manhattan_dist</th>\n",
       "      <th>haversine_dist</th>\n",
       "      <th>abs_diff_long</th>\n",
       "      <th>abs_diff_lat</th>\n",
       "      <th>fare_bin</th>\n",
       "      <th>Year</th>\n",
       "      <th>Quarter</th>\n",
       "      <th>Month</th>\n",
       "    </tr>\n",
       "  </thead>\n",
       "  <tbody>\n",
       "    <tr>\n",
       "      <th>0</th>\n",
       "      <td>26:21.0</td>\n",
       "      <td>4.5</td>\n",
       "      <td>2009-06-15 17:26:21+00:00</td>\n",
       "      <td>-73.844311</td>\n",
       "      <td>40.721319</td>\n",
       "      <td>-73.841610</td>\n",
       "      <td>40.712278</td>\n",
       "      <td>1</td>\n",
       "      <td>0.009436</td>\n",
       "      <td>0.011742</td>\n",
       "      <td>1.030764</td>\n",
       "      <td>0.002701</td>\n",
       "      <td>0.009041</td>\n",
       "      <td>(0, 5]</td>\n",
       "      <td>2009</td>\n",
       "      <td>2</td>\n",
       "      <td>6</td>\n",
       "    </tr>\n",
       "    <tr>\n",
       "      <th>1</th>\n",
       "      <td>52:16.0</td>\n",
       "      <td>16.9</td>\n",
       "      <td>2010-01-05 16:52:16+00:00</td>\n",
       "      <td>-74.016048</td>\n",
       "      <td>40.711303</td>\n",
       "      <td>-73.979268</td>\n",
       "      <td>40.782004</td>\n",
       "      <td>1</td>\n",
       "      <td>0.079696</td>\n",
       "      <td>0.107481</td>\n",
       "      <td>8.450134</td>\n",
       "      <td>0.036780</td>\n",
       "      <td>0.070701</td>\n",
       "      <td>(15, 20]</td>\n",
       "      <td>2010</td>\n",
       "      <td>1</td>\n",
       "      <td>1</td>\n",
       "    </tr>\n",
       "  </tbody>\n",
       "</table>\n",
       "</div>"
      ],
      "text/plain": [
       "       uid  fare                 pickup_dt  long_pickup  lat_pickup  \\\n",
       "0  26:21.0   4.5 2009-06-15 17:26:21+00:00   -73.844311   40.721319   \n",
       "1  52:16.0  16.9 2010-01-05 16:52:16+00:00   -74.016048   40.711303   \n",
       "\n",
       "   long_drop   lat_drop  pass#  Euclid_dist  Manhattan_dist  haversine_dist  \\\n",
       "0 -73.841610  40.712278      1     0.009436        0.011742        1.030764   \n",
       "1 -73.979268  40.782004      1     0.079696        0.107481        8.450134   \n",
       "\n",
       "   abs_diff_long  abs_diff_lat  fare_bin  Year  Quarter  Month  \n",
       "0       0.002701      0.009041    (0, 5]  2009        2      6  \n",
       "1       0.036780      0.070701  (15, 20]  2010        1      1  "
      ]
     },
     "execution_count": 138,
     "metadata": {},
     "output_type": "execute_result"
    }
   ],
   "source": [
    "df1.head(2)"
   ]
  },
  {
   "cell_type": "code",
   "execution_count": 139,
   "id": "7d2bf9b5",
   "metadata": {},
   "outputs": [
    {
     "data": {
      "text/html": [
       "<div>\n",
       "<style scoped>\n",
       "    .dataframe tbody tr th:only-of-type {\n",
       "        vertical-align: middle;\n",
       "    }\n",
       "\n",
       "    .dataframe tbody tr th {\n",
       "        vertical-align: top;\n",
       "    }\n",
       "\n",
       "    .dataframe thead th {\n",
       "        text-align: right;\n",
       "    }\n",
       "</style>\n",
       "<table border=\"1\" class=\"dataframe\">\n",
       "  <thead>\n",
       "    <tr style=\"text-align: right;\">\n",
       "      <th></th>\n",
       "      <th>uid</th>\n",
       "      <th>fare</th>\n",
       "      <th>pickup_dt</th>\n",
       "      <th>long_pickup</th>\n",
       "      <th>lat_pickup</th>\n",
       "      <th>long_drop</th>\n",
       "      <th>lat_drop</th>\n",
       "      <th>pass#</th>\n",
       "      <th>Euclid_dist</th>\n",
       "      <th>Manhattan_dist</th>\n",
       "      <th>haversine_dist</th>\n",
       "      <th>abs_diff_long</th>\n",
       "      <th>abs_diff_lat</th>\n",
       "      <th>fare_bin</th>\n",
       "      <th>Year</th>\n",
       "      <th>Quarter</th>\n",
       "      <th>Month</th>\n",
       "      <th>Hour</th>\n",
       "    </tr>\n",
       "  </thead>\n",
       "  <tbody>\n",
       "    <tr>\n",
       "      <th>0</th>\n",
       "      <td>26:21.0</td>\n",
       "      <td>4.5</td>\n",
       "      <td>2009-06-15 17:26:21+00:00</td>\n",
       "      <td>-73.844311</td>\n",
       "      <td>40.721319</td>\n",
       "      <td>-73.841610</td>\n",
       "      <td>40.712278</td>\n",
       "      <td>1</td>\n",
       "      <td>0.009436</td>\n",
       "      <td>0.011742</td>\n",
       "      <td>1.030764</td>\n",
       "      <td>0.002701</td>\n",
       "      <td>0.009041</td>\n",
       "      <td>(0, 5]</td>\n",
       "      <td>2009</td>\n",
       "      <td>2</td>\n",
       "      <td>6</td>\n",
       "      <td>17</td>\n",
       "    </tr>\n",
       "    <tr>\n",
       "      <th>1</th>\n",
       "      <td>52:16.0</td>\n",
       "      <td>16.9</td>\n",
       "      <td>2010-01-05 16:52:16+00:00</td>\n",
       "      <td>-74.016048</td>\n",
       "      <td>40.711303</td>\n",
       "      <td>-73.979268</td>\n",
       "      <td>40.782004</td>\n",
       "      <td>1</td>\n",
       "      <td>0.079696</td>\n",
       "      <td>0.107481</td>\n",
       "      <td>8.450134</td>\n",
       "      <td>0.036780</td>\n",
       "      <td>0.070701</td>\n",
       "      <td>(15, 20]</td>\n",
       "      <td>2010</td>\n",
       "      <td>1</td>\n",
       "      <td>1</td>\n",
       "      <td>16</td>\n",
       "    </tr>\n",
       "    <tr>\n",
       "      <th>2</th>\n",
       "      <td>35:00.0</td>\n",
       "      <td>5.7</td>\n",
       "      <td>2011-08-18 00:35:00+00:00</td>\n",
       "      <td>-73.982738</td>\n",
       "      <td>40.761270</td>\n",
       "      <td>-73.991242</td>\n",
       "      <td>40.750562</td>\n",
       "      <td>2</td>\n",
       "      <td>0.013674</td>\n",
       "      <td>0.019212</td>\n",
       "      <td>1.389525</td>\n",
       "      <td>0.008504</td>\n",
       "      <td>0.010708</td>\n",
       "      <td>(5, 10]</td>\n",
       "      <td>2011</td>\n",
       "      <td>3</td>\n",
       "      <td>8</td>\n",
       "      <td>0</td>\n",
       "    </tr>\n",
       "    <tr>\n",
       "      <th>3</th>\n",
       "      <td>30:42.0</td>\n",
       "      <td>7.7</td>\n",
       "      <td>2012-04-21 04:30:42+00:00</td>\n",
       "      <td>-73.987130</td>\n",
       "      <td>40.733143</td>\n",
       "      <td>-73.991567</td>\n",
       "      <td>40.758092</td>\n",
       "      <td>1</td>\n",
       "      <td>0.025340</td>\n",
       "      <td>0.029386</td>\n",
       "      <td>2.799270</td>\n",
       "      <td>0.004437</td>\n",
       "      <td>0.024949</td>\n",
       "      <td>(5, 10]</td>\n",
       "      <td>2012</td>\n",
       "      <td>2</td>\n",
       "      <td>4</td>\n",
       "      <td>4</td>\n",
       "    </tr>\n",
       "    <tr>\n",
       "      <th>4</th>\n",
       "      <td>51:00.0</td>\n",
       "      <td>5.3</td>\n",
       "      <td>2010-03-09 07:51:00+00:00</td>\n",
       "      <td>-73.968095</td>\n",
       "      <td>40.768008</td>\n",
       "      <td>-73.956655</td>\n",
       "      <td>40.783762</td>\n",
       "      <td>1</td>\n",
       "      <td>0.019470</td>\n",
       "      <td>0.027194</td>\n",
       "      <td>1.999157</td>\n",
       "      <td>0.011440</td>\n",
       "      <td>0.015754</td>\n",
       "      <td>(5, 10]</td>\n",
       "      <td>2010</td>\n",
       "      <td>1</td>\n",
       "      <td>3</td>\n",
       "      <td>7</td>\n",
       "    </tr>\n",
       "  </tbody>\n",
       "</table>\n",
       "</div>"
      ],
      "text/plain": [
       "       uid  fare                 pickup_dt  long_pickup  lat_pickup  \\\n",
       "0  26:21.0   4.5 2009-06-15 17:26:21+00:00   -73.844311   40.721319   \n",
       "1  52:16.0  16.9 2010-01-05 16:52:16+00:00   -74.016048   40.711303   \n",
       "2  35:00.0   5.7 2011-08-18 00:35:00+00:00   -73.982738   40.761270   \n",
       "3  30:42.0   7.7 2012-04-21 04:30:42+00:00   -73.987130   40.733143   \n",
       "4  51:00.0   5.3 2010-03-09 07:51:00+00:00   -73.968095   40.768008   \n",
       "\n",
       "   long_drop   lat_drop  pass#  Euclid_dist  Manhattan_dist  haversine_dist  \\\n",
       "0 -73.841610  40.712278      1     0.009436        0.011742        1.030764   \n",
       "1 -73.979268  40.782004      1     0.079696        0.107481        8.450134   \n",
       "2 -73.991242  40.750562      2     0.013674        0.019212        1.389525   \n",
       "3 -73.991567  40.758092      1     0.025340        0.029386        2.799270   \n",
       "4 -73.956655  40.783762      1     0.019470        0.027194        1.999157   \n",
       "\n",
       "   abs_diff_long  abs_diff_lat  fare_bin  Year  Quarter  Month  Hour  \n",
       "0       0.002701      0.009041    (0, 5]  2009        2      6    17  \n",
       "1       0.036780      0.070701  (15, 20]  2010        1      1    16  \n",
       "2       0.008504      0.010708   (5, 10]  2011        3      8     0  \n",
       "3       0.004437      0.024949   (5, 10]  2012        2      4     4  \n",
       "4       0.011440      0.015754   (5, 10]  2010        1      3     7  "
      ]
     },
     "execution_count": 139,
     "metadata": {},
     "output_type": "execute_result"
    }
   ],
   "source": [
    "df1['Hour']  = df1['pickup_dt'].apply(lambda x : x.hour)\n",
    "df1.head()"
   ]
  },
  {
   "cell_type": "code",
   "execution_count": 140,
   "id": "c0abd2f1",
   "metadata": {},
   "outputs": [
    {
     "data": {
      "text/html": [
       "<div>\n",
       "<style scoped>\n",
       "    .dataframe tbody tr th:only-of-type {\n",
       "        vertical-align: middle;\n",
       "    }\n",
       "\n",
       "    .dataframe tbody tr th {\n",
       "        vertical-align: top;\n",
       "    }\n",
       "\n",
       "    .dataframe thead th {\n",
       "        text-align: right;\n",
       "    }\n",
       "</style>\n",
       "<table border=\"1\" class=\"dataframe\">\n",
       "  <thead>\n",
       "    <tr style=\"text-align: right;\">\n",
       "      <th></th>\n",
       "      <th>uid</th>\n",
       "      <th>fare</th>\n",
       "      <th>pickup_dt</th>\n",
       "      <th>long_pickup</th>\n",
       "      <th>lat_pickup</th>\n",
       "      <th>long_drop</th>\n",
       "      <th>lat_drop</th>\n",
       "      <th>pass#</th>\n",
       "      <th>Euclid_dist</th>\n",
       "      <th>Manhattan_dist</th>\n",
       "      <th>haversine_dist</th>\n",
       "      <th>abs_diff_long</th>\n",
       "      <th>abs_diff_lat</th>\n",
       "      <th>fare_bin</th>\n",
       "      <th>Year</th>\n",
       "      <th>Quarter</th>\n",
       "      <th>Month</th>\n",
       "      <th>Hour</th>\n",
       "      <th>Minute</th>\n",
       "    </tr>\n",
       "  </thead>\n",
       "  <tbody>\n",
       "    <tr>\n",
       "      <th>0</th>\n",
       "      <td>26:21.0</td>\n",
       "      <td>4.5</td>\n",
       "      <td>2009-06-15 17:26:21+00:00</td>\n",
       "      <td>-73.844311</td>\n",
       "      <td>40.721319</td>\n",
       "      <td>-73.841610</td>\n",
       "      <td>40.712278</td>\n",
       "      <td>1</td>\n",
       "      <td>0.009436</td>\n",
       "      <td>0.011742</td>\n",
       "      <td>1.030764</td>\n",
       "      <td>0.002701</td>\n",
       "      <td>0.009041</td>\n",
       "      <td>(0, 5]</td>\n",
       "      <td>2009</td>\n",
       "      <td>2</td>\n",
       "      <td>6</td>\n",
       "      <td>17</td>\n",
       "      <td>26</td>\n",
       "    </tr>\n",
       "    <tr>\n",
       "      <th>1</th>\n",
       "      <td>52:16.0</td>\n",
       "      <td>16.9</td>\n",
       "      <td>2010-01-05 16:52:16+00:00</td>\n",
       "      <td>-74.016048</td>\n",
       "      <td>40.711303</td>\n",
       "      <td>-73.979268</td>\n",
       "      <td>40.782004</td>\n",
       "      <td>1</td>\n",
       "      <td>0.079696</td>\n",
       "      <td>0.107481</td>\n",
       "      <td>8.450134</td>\n",
       "      <td>0.036780</td>\n",
       "      <td>0.070701</td>\n",
       "      <td>(15, 20]</td>\n",
       "      <td>2010</td>\n",
       "      <td>1</td>\n",
       "      <td>1</td>\n",
       "      <td>16</td>\n",
       "      <td>52</td>\n",
       "    </tr>\n",
       "    <tr>\n",
       "      <th>2</th>\n",
       "      <td>35:00.0</td>\n",
       "      <td>5.7</td>\n",
       "      <td>2011-08-18 00:35:00+00:00</td>\n",
       "      <td>-73.982738</td>\n",
       "      <td>40.761270</td>\n",
       "      <td>-73.991242</td>\n",
       "      <td>40.750562</td>\n",
       "      <td>2</td>\n",
       "      <td>0.013674</td>\n",
       "      <td>0.019212</td>\n",
       "      <td>1.389525</td>\n",
       "      <td>0.008504</td>\n",
       "      <td>0.010708</td>\n",
       "      <td>(5, 10]</td>\n",
       "      <td>2011</td>\n",
       "      <td>3</td>\n",
       "      <td>8</td>\n",
       "      <td>0</td>\n",
       "      <td>35</td>\n",
       "    </tr>\n",
       "  </tbody>\n",
       "</table>\n",
       "</div>"
      ],
      "text/plain": [
       "       uid  fare                 pickup_dt  long_pickup  lat_pickup  \\\n",
       "0  26:21.0   4.5 2009-06-15 17:26:21+00:00   -73.844311   40.721319   \n",
       "1  52:16.0  16.9 2010-01-05 16:52:16+00:00   -74.016048   40.711303   \n",
       "2  35:00.0   5.7 2011-08-18 00:35:00+00:00   -73.982738   40.761270   \n",
       "\n",
       "   long_drop   lat_drop  pass#  Euclid_dist  Manhattan_dist  haversine_dist  \\\n",
       "0 -73.841610  40.712278      1     0.009436        0.011742        1.030764   \n",
       "1 -73.979268  40.782004      1     0.079696        0.107481        8.450134   \n",
       "2 -73.991242  40.750562      2     0.013674        0.019212        1.389525   \n",
       "\n",
       "   abs_diff_long  abs_diff_lat  fare_bin  Year  Quarter  Month  Hour  Minute  \n",
       "0       0.002701      0.009041    (0, 5]  2009        2      6    17      26  \n",
       "1       0.036780      0.070701  (15, 20]  2010        1      1    16      52  \n",
       "2       0.008504      0.010708   (5, 10]  2011        3      8     0      35  "
      ]
     },
     "execution_count": 140,
     "metadata": {},
     "output_type": "execute_result"
    }
   ],
   "source": [
    "df1['Minute']  = df1['pickup_dt'].apply(lambda x : x.minute)\n",
    "df1.head(3)"
   ]
  },
  {
   "cell_type": "code",
   "execution_count": 144,
   "id": "74d33cc2",
   "metadata": {},
   "outputs": [
    {
     "data": {
      "text/plain": [
       "Hour\n",
       "18    33952.91\n",
       "19    33315.39\n",
       "22    30926.22\n",
       "21    30870.17\n",
       "20    30335.36\n",
       "14    29525.87\n",
       "13    28581.50\n",
       "15    28037.83\n",
       "17    27928.02\n",
       "23    27834.50\n",
       "12    27704.75\n",
       "11    25825.42\n",
       "9     24988.61\n",
       "16    24751.32\n",
       "10    24249.59\n",
       "8     23300.00\n",
       "0     22461.62\n",
       "7     20871.88\n",
       "1     17212.50\n",
       "6     12333.18\n",
       "2     12122.60\n",
       "3      9893.39\n",
       "4      8290.21\n",
       "5      7611.93\n",
       "Name: fare, dtype: float64"
      ]
     },
     "execution_count": 144,
     "metadata": {},
     "output_type": "execute_result"
    }
   ],
   "source": [
    "hrly_sum_fare = df1.groupby(['Hour'])['fare'].sum()\n",
    "hrly_sum_fare.sort_values(ascending=False)"
   ]
  },
  {
   "cell_type": "code",
   "execution_count": 145,
   "id": "2732c0f9",
   "metadata": {},
   "outputs": [
    {
     "data": {
      "text/plain": [
       "Month\n",
       "5     54001.37\n",
       "3     51551.31\n",
       "6     51413.48\n",
       "4     50813.47\n",
       "1     48259.00\n",
       "2     46522.53\n",
       "10    46375.96\n",
       "12    46278.33\n",
       "9     45199.64\n",
       "11    43274.56\n",
       "7     39694.00\n",
       "8     39541.12\n",
       "Name: fare, dtype: float64"
      ]
     },
     "execution_count": 145,
     "metadata": {},
     "output_type": "execute_result"
    }
   ],
   "source": [
    "monthly_fare_sum = df1.groupby(['Month'])['fare'].sum()\n",
    "monthly_fare_sum.sort_values(ascending=False)"
   ]
  },
  {
   "cell_type": "code",
   "execution_count": 147,
   "id": "9f7ae41e",
   "metadata": {},
   "outputs": [
    {
     "data": {
      "text/plain": [
       "Quarter\n",
       "2    156228.32\n",
       "1    146332.84\n",
       "4    135928.85\n",
       "3    124434.76\n",
       "Name: fare, dtype: float64"
      ]
     },
     "execution_count": 147,
     "metadata": {},
     "output_type": "execute_result"
    }
   ],
   "source": [
    "qrtly_fare_sum = df1.groupby(['Quarter'])['fare'].sum()\n",
    "qrtly_fare_sum.sort_values(ascending=False)"
   ]
  },
  {
   "cell_type": "code",
   "execution_count": 148,
   "id": "49fd9fdd",
   "metadata": {},
   "outputs": [
    {
     "data": {
      "text/plain": [
       "Year\n",
       "2014    97304.29\n",
       "2013    96025.44\n",
       "2012    89033.90\n",
       "2011    81666.47\n",
       "2009    77159.24\n",
       "2010    77100.96\n",
       "2015    44634.47\n",
       "Name: fare, dtype: float64"
      ]
     },
     "execution_count": 148,
     "metadata": {},
     "output_type": "execute_result"
    }
   ],
   "source": [
    "yearly_fare_sum = df1.groupby(['Year'])['fare'].sum()\n",
    "yearly_fare_sum.sort_values(ascending=False)"
   ]
  },
  {
   "cell_type": "code",
   "execution_count": 150,
   "id": "64f1f835",
   "metadata": {},
   "outputs": [
    {
     "data": {
      "text/html": [
       "<div>\n",
       "<style scoped>\n",
       "    .dataframe tbody tr th:only-of-type {\n",
       "        vertical-align: middle;\n",
       "    }\n",
       "\n",
       "    .dataframe tbody tr th {\n",
       "        vertical-align: top;\n",
       "    }\n",
       "\n",
       "    .dataframe thead th {\n",
       "        text-align: right;\n",
       "    }\n",
       "</style>\n",
       "<table border=\"1\" class=\"dataframe\">\n",
       "  <thead>\n",
       "    <tr style=\"text-align: right;\">\n",
       "      <th></th>\n",
       "      <th>uid</th>\n",
       "      <th>fare</th>\n",
       "      <th>pickup_dt</th>\n",
       "      <th>long_pickup</th>\n",
       "      <th>lat_pickup</th>\n",
       "      <th>long_drop</th>\n",
       "      <th>lat_drop</th>\n",
       "      <th>pass#</th>\n",
       "      <th>Euclid_dist</th>\n",
       "      <th>Manhattan_dist</th>\n",
       "      <th>...</th>\n",
       "      <th>fare_bin</th>\n",
       "      <th>Year</th>\n",
       "      <th>Quarter</th>\n",
       "      <th>Month</th>\n",
       "      <th>Hour</th>\n",
       "      <th>Minute</th>\n",
       "      <th>Day_Q1</th>\n",
       "      <th>Day_Q2</th>\n",
       "      <th>Day_Q3</th>\n",
       "      <th>Day_Q4</th>\n",
       "    </tr>\n",
       "  </thead>\n",
       "  <tbody>\n",
       "    <tr>\n",
       "      <th>0</th>\n",
       "      <td>26:21.0</td>\n",
       "      <td>4.5</td>\n",
       "      <td>2009-06-15 17:26:21+00:00</td>\n",
       "      <td>-73.844311</td>\n",
       "      <td>40.721319</td>\n",
       "      <td>-73.841610</td>\n",
       "      <td>40.712278</td>\n",
       "      <td>1</td>\n",
       "      <td>0.009436</td>\n",
       "      <td>0.011742</td>\n",
       "      <td>...</td>\n",
       "      <td>(0, 5]</td>\n",
       "      <td>2009</td>\n",
       "      <td>2</td>\n",
       "      <td>6</td>\n",
       "      <td>17</td>\n",
       "      <td>26</td>\n",
       "      <td>0</td>\n",
       "      <td>0</td>\n",
       "      <td>1</td>\n",
       "      <td>0</td>\n",
       "    </tr>\n",
       "    <tr>\n",
       "      <th>1</th>\n",
       "      <td>52:16.0</td>\n",
       "      <td>16.9</td>\n",
       "      <td>2010-01-05 16:52:16+00:00</td>\n",
       "      <td>-74.016048</td>\n",
       "      <td>40.711303</td>\n",
       "      <td>-73.979268</td>\n",
       "      <td>40.782004</td>\n",
       "      <td>1</td>\n",
       "      <td>0.079696</td>\n",
       "      <td>0.107481</td>\n",
       "      <td>...</td>\n",
       "      <td>(15, 20]</td>\n",
       "      <td>2010</td>\n",
       "      <td>1</td>\n",
       "      <td>1</td>\n",
       "      <td>16</td>\n",
       "      <td>52</td>\n",
       "      <td>0</td>\n",
       "      <td>0</td>\n",
       "      <td>1</td>\n",
       "      <td>0</td>\n",
       "    </tr>\n",
       "    <tr>\n",
       "      <th>2</th>\n",
       "      <td>35:00.0</td>\n",
       "      <td>5.7</td>\n",
       "      <td>2011-08-18 00:35:00+00:00</td>\n",
       "      <td>-73.982738</td>\n",
       "      <td>40.761270</td>\n",
       "      <td>-73.991242</td>\n",
       "      <td>40.750562</td>\n",
       "      <td>2</td>\n",
       "      <td>0.013674</td>\n",
       "      <td>0.019212</td>\n",
       "      <td>...</td>\n",
       "      <td>(5, 10]</td>\n",
       "      <td>2011</td>\n",
       "      <td>3</td>\n",
       "      <td>8</td>\n",
       "      <td>0</td>\n",
       "      <td>35</td>\n",
       "      <td>0</td>\n",
       "      <td>0</td>\n",
       "      <td>0</td>\n",
       "      <td>0</td>\n",
       "    </tr>\n",
       "    <tr>\n",
       "      <th>3</th>\n",
       "      <td>30:42.0</td>\n",
       "      <td>7.7</td>\n",
       "      <td>2012-04-21 04:30:42+00:00</td>\n",
       "      <td>-73.987130</td>\n",
       "      <td>40.733143</td>\n",
       "      <td>-73.991567</td>\n",
       "      <td>40.758092</td>\n",
       "      <td>1</td>\n",
       "      <td>0.025340</td>\n",
       "      <td>0.029386</td>\n",
       "      <td>...</td>\n",
       "      <td>(5, 10]</td>\n",
       "      <td>2012</td>\n",
       "      <td>2</td>\n",
       "      <td>4</td>\n",
       "      <td>4</td>\n",
       "      <td>30</td>\n",
       "      <td>1</td>\n",
       "      <td>0</td>\n",
       "      <td>0</td>\n",
       "      <td>0</td>\n",
       "    </tr>\n",
       "    <tr>\n",
       "      <th>4</th>\n",
       "      <td>51:00.0</td>\n",
       "      <td>5.3</td>\n",
       "      <td>2010-03-09 07:51:00+00:00</td>\n",
       "      <td>-73.968095</td>\n",
       "      <td>40.768008</td>\n",
       "      <td>-73.956655</td>\n",
       "      <td>40.783762</td>\n",
       "      <td>1</td>\n",
       "      <td>0.019470</td>\n",
       "      <td>0.027194</td>\n",
       "      <td>...</td>\n",
       "      <td>(5, 10]</td>\n",
       "      <td>2010</td>\n",
       "      <td>1</td>\n",
       "      <td>3</td>\n",
       "      <td>7</td>\n",
       "      <td>51</td>\n",
       "      <td>0</td>\n",
       "      <td>1</td>\n",
       "      <td>0</td>\n",
       "      <td>0</td>\n",
       "    </tr>\n",
       "  </tbody>\n",
       "</table>\n",
       "<p>5 rows × 23 columns</p>\n",
       "</div>"
      ],
      "text/plain": [
       "       uid  fare                 pickup_dt  long_pickup  lat_pickup  \\\n",
       "0  26:21.0   4.5 2009-06-15 17:26:21+00:00   -73.844311   40.721319   \n",
       "1  52:16.0  16.9 2010-01-05 16:52:16+00:00   -74.016048   40.711303   \n",
       "2  35:00.0   5.7 2011-08-18 00:35:00+00:00   -73.982738   40.761270   \n",
       "3  30:42.0   7.7 2012-04-21 04:30:42+00:00   -73.987130   40.733143   \n",
       "4  51:00.0   5.3 2010-03-09 07:51:00+00:00   -73.968095   40.768008   \n",
       "\n",
       "   long_drop   lat_drop  pass#  Euclid_dist  Manhattan_dist  ...  fare_bin  \\\n",
       "0 -73.841610  40.712278      1     0.009436        0.011742  ...    (0, 5]   \n",
       "1 -73.979268  40.782004      1     0.079696        0.107481  ...  (15, 20]   \n",
       "2 -73.991242  40.750562      2     0.013674        0.019212  ...   (5, 10]   \n",
       "3 -73.991567  40.758092      1     0.025340        0.029386  ...   (5, 10]   \n",
       "4 -73.956655  40.783762      1     0.019470        0.027194  ...   (5, 10]   \n",
       "\n",
       "   Year  Quarter Month  Hour  Minute  Day_Q1  Day_Q2  Day_Q3  Day_Q4  \n",
       "0  2009        2     6    17      26       0       0       1       0  \n",
       "1  2010        1     1    16      52       0       0       1       0  \n",
       "2  2011        3     8     0      35       0       0       0       0  \n",
       "3  2012        2     4     4      30       1       0       0       0  \n",
       "4  2010        1     3     7      51       0       1       0       0  \n",
       "\n",
       "[5 rows x 23 columns]"
      ]
     },
     "execution_count": 150,
     "metadata": {},
     "output_type": "execute_result"
    }
   ],
   "source": [
    "df1['Day_Q1'] = np.where((df1['Hour']>0) & (df1['Hour']<=6),1,0)\n",
    "df1['Day_Q2'] = np.where((df1['Hour']>6) & (df1['Hour']<=12),1,0)\n",
    "df1['Day_Q3'] = np.where((df1['Hour']>12) & (df1['Hour']<=18),1,0)\n",
    "df1['Day_Q4'] = np.where((df1['Hour']>18) & (df1['Hour']<=0),1,0)\n",
    "df1.head()"
   ]
  },
  {
   "cell_type": "code",
   "execution_count": 152,
   "id": "b4e90f4c",
   "metadata": {},
   "outputs": [
    {
     "data": {
      "text/plain": [
       "Index(['uid', 'fare', 'pickup_dt', 'long_pickup', 'lat_pickup', 'long_drop',\n",
       "       'lat_drop', 'pass#', 'Euclid_dist', 'Manhattan_dist', 'haversine_dist',\n",
       "       'abs_diff_long', 'abs_diff_lat', 'fare_bin', 'Year', 'Quarter', 'Month',\n",
       "       'Hour', 'Minute', 'Day_Q1', 'Day_Q2', 'Day_Q3', 'Day_Q4'],\n",
       "      dtype='object')"
      ]
     },
     "execution_count": 152,
     "metadata": {},
     "output_type": "execute_result"
    }
   ],
   "source": [
    "df1.columns"
   ]
  },
  {
   "cell_type": "markdown",
   "id": "894f9c8d",
   "metadata": {},
   "source": [
    "#### Model - 2\n"
   ]
  },
  {
   "cell_type": "code",
   "execution_count": 153,
   "id": "833f1854",
   "metadata": {},
   "outputs": [],
   "source": [
    "x1 = df1[['pass#', 'Euclid_dist', 'Manhattan_dist', 'haversine_dist',\n",
    "       'abs_diff_long', 'abs_diff_lat', 'Year', 'Quarter', 'Month',\n",
    "       'Hour', 'Minute', 'Day_Q1', 'Day_Q2', 'Day_Q3', 'Day_Q4']]\n",
    "y1 = df1['fare']"
   ]
  },
  {
   "cell_type": "code",
   "execution_count": 157,
   "id": "2b5308ac",
   "metadata": {},
   "outputs": [
    {
     "name": "stdout",
     "output_type": "stream",
     "text": [
      "(37499, 15)\n",
      "(12500, 15)\n",
      "(37499,)\n",
      "(12500,)\n"
     ]
    }
   ],
   "source": [
    "x_train1,x_test1,y_train1,y_test1 = train_test_split(x1,y1,test_size=0.25,random_state=30)\n",
    "print(x_train1.shape)\n",
    "print(x_test1.shape)\n",
    "print(y_train1.shape)\n",
    "print(y_test1.shape)"
   ]
  },
  {
   "cell_type": "code",
   "execution_count": 155,
   "id": "acf281e4",
   "metadata": {},
   "outputs": [
    {
     "name": "stdout",
     "output_type": "stream",
     "text": [
      "Index(['pass#', 'Euclid_dist', 'Manhattan_dist', 'haversine_dist',\n",
      "       'abs_diff_long', 'abs_diff_lat', 'Year', 'Quarter', 'Month', 'Hour',\n",
      "       'Minute', 'Day_Q1', 'Day_Q2', 'Day_Q3', 'Day_Q4'],\n",
      "      dtype='object')\n"
     ]
    }
   ],
   "source": [
    "print(x_train1.columns)"
   ]
  },
  {
   "cell_type": "code",
   "execution_count": 159,
   "id": "6b42e450",
   "metadata": {},
   "outputs": [
    {
     "data": {
      "text/plain": [
       "RandomForestRegressor(n_estimators=40)"
      ]
     },
     "execution_count": 159,
     "metadata": {},
     "output_type": "execute_result"
    }
   ],
   "source": [
    "m2 = RandomForestRegressor(n_estimators=40)\n",
    "m2.fit(x_train1,y_train1)"
   ]
  },
  {
   "cell_type": "code",
   "execution_count": 160,
   "id": "f7b56d94",
   "metadata": {},
   "outputs": [
    {
     "name": "stdout",
     "output_type": "stream",
     "text": [
      "Training Score 0.9708200349333536\n",
      "Testing Score 0.8034459725492507\n",
      "MAE 2.096343073333333\n",
      "MSE 15.519694088614997\n",
      "RMSE 3.9395042947831644\n",
      "R2_Score 0.8034459725492507\n"
     ]
    }
   ],
   "source": [
    "gen_metrics(m2,x_train1,x_test1,y_train1,y_test1)"
   ]
  },
  {
   "cell_type": "code",
   "execution_count": null,
   "id": "6a3a9c26",
   "metadata": {},
   "outputs": [],
   "source": [
    "#### Apply HyperParamter Tuning - GrdiSearchCV and/or RandomisedSearchCV\n",
    "#### Apply LinearReg, DTRegressor as well."
   ]
  },
  {
   "cell_type": "code",
   "execution_count": null,
   "id": "da664345",
   "metadata": {},
   "outputs": [],
   "source": [
    "# !pip install xgboost"
   ]
  },
  {
   "cell_type": "code",
   "execution_count": 161,
   "id": "a79a7c57",
   "metadata": {},
   "outputs": [],
   "source": [
    "import xgboost"
   ]
  },
  {
   "cell_type": "code",
   "execution_count": null,
   "id": "ec3249bd",
   "metadata": {},
   "outputs": [],
   "source": [
    "# LinReg\n",
    "# LogReg\n",
    "# DT\n",
    "# RF\n",
    "# Ensmble\n",
    "# AdaBoost\n",
    "# XGBoost\n",
    "# KNN\n",
    "# SVM\n",
    "# Naive Bayes\n",
    "\n",
    "\n",
    "# # Unsupervised\n",
    "# 1) KMeans Clustering\n",
    "# 2) Agglomerative Clustering\n",
    "# 3) PCA (Principal Component Analysis)\n",
    "# 4) Time Series - ARIMA\n",
    "\n",
    "\n",
    "# # Deep Learning\n",
    "# 1) ANN\n",
    "# 2) CNN\n",
    "# 3) RNN\n",
    "# 4) NLP\n",
    "# 5) Computer Vision\n",
    "\n",
    "\n"
   ]
  }
 ],
 "metadata": {
  "kernelspec": {
   "display_name": "Python 3 (ipykernel)",
   "language": "python",
   "name": "python3"
  },
  "language_info": {
   "codemirror_mode": {
    "name": "ipython",
    "version": 3
   },
   "file_extension": ".py",
   "mimetype": "text/x-python",
   "name": "python",
   "nbconvert_exporter": "python",
   "pygments_lexer": "ipython3",
   "version": "3.9.7"
  }
 },
 "nbformat": 4,
 "nbformat_minor": 5
}
